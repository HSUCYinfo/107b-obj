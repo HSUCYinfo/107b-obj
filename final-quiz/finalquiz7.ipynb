{
 "cells": [
  {
   "cell_type": "markdown",
   "metadata": {},
   "source": [
    "!!! 備註 !!! 假如同學進入此區塊的編輯模式(出現一堆html語法)，可以透過 \"Ctrl + Enter\" 回到顯示模式\n",
    "\n",
    "<br>\n",
    "<font face=\"微軟正黑體\">\n",
    "    <font size=\"6\">\n",
    "        <b>finalquiz7 <br><br></b>\n",
    "    </font>\n",
    "</font>\n",
    "\n",
    "\n",
    "<font face = \"標楷體\">\n",
    "    <font size=\"4\">\n",
    "        <b>問題描述：</b><br><br>\n",
    "        &nbsp;&nbsp;&nbsp;&nbsp;輸入2個正整數n, m，取出n到m之間所有正整並進行以下運算:<br>\n",
    "        &nbsp;&nbsp;&nbsp;&nbsp;當遇到奇數時必須相減，當遇到偶數時必須相加\n",
    "<br><br>\n",
    "        <font color=\"red\"><b>\n",
    "            特別注意：</b><br><br>\n",
    "            &nbsp;&nbsp;&nbsp;&nbsp;輸出格式必須與下表(範例)&nbsp;\"\"\"完全相同\"\"\"<br>\n",
    "            &nbsp;&nbsp;&nbsp;&nbsp;且輸出結果必須在一行內(如範例)&nbsp;!!!不可換行!!!\n",
    "        <br><br></font>\n",
    "       &nbsp;&nbsp;&nbsp;&nbsp;&nbsp;&nbsp;&nbsp;&nbsp;&nbsp;&nbsp;&nbsp;&nbsp;&nbsp;&nbsp;&nbsp;&nbsp;&nbsp;&nbsp;&nbsp;&nbsp;&nbsp;&nbsp;&nbsp;&nbsp;&nbsp;&nbsp;&nbsp;&nbsp;&nbsp;&nbsp;&nbsp;&nbsp;&nbsp;&nbsp;&nbsp;&nbsp;&nbsp;&nbsp;&nbsp;&nbsp;<b>範例例(1)</b><br>\n",
    "    </font>\n",
    "</font>\n",
    "\n",
    "\n",
    "\n",
    "| <font size=\"4\">Sample Input      | <font size=\"4\">Sample Output |\n",
    "|  ---        |     ----    |\n",
    "| <font size=\"4\">36<br>43     | <font size=\"4\">-4       |\n",
    "\n",
    "<font face = \"標楷體\">\n",
    "    <font size=\"4\">\n",
    "        <br>\n",
    "&nbsp;&nbsp;&nbsp;&nbsp;&nbsp;&nbsp;&nbsp;&nbsp;&nbsp;&nbsp;&nbsp;&nbsp;&nbsp;&nbsp;&nbsp;&nbsp;&nbsp;&nbsp;&nbsp;&nbsp;&nbsp;&nbsp;&nbsp;&nbsp;&nbsp;&nbsp;&nbsp;&nbsp;&nbsp;&nbsp;&nbsp;&nbsp;&nbsp;&nbsp;&nbsp;&nbsp;&nbsp;&nbsp;&nbsp;&nbsp;<b>範例例(2)</b><br/>\n",
    "    </font>\n",
    "</font>\n",
    "\n",
    "| <font size=\"4\">Sample Input      | <font size=\"4\">Sample Output |\n",
    "|  ---        |     ----    |\n",
    "| <font size=\"4\">1073<br>2036   | <font size=\"4\">482        |\n",
    "\n"
   ]
  },
  {
   "cell_type": "code",
   "execution_count": null,
   "metadata": {},
   "outputs": [],
   "source": []
  }
 ],
 "metadata": {
  "kernelspec": {
   "display_name": "Python 3",
   "language": "python",
   "name": "python3"
  },
  "language_info": {
   "codemirror_mode": {
    "name": "ipython",
    "version": 3
   },
   "file_extension": ".py",
   "mimetype": "text/x-python",
   "name": "python",
   "nbconvert_exporter": "python",
   "pygments_lexer": "ipython3",
   "version": "3.6.7"
  }
 },
 "nbformat": 4,
 "nbformat_minor": 2
}

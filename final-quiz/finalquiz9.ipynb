{
 "cells": [
  {
   "cell_type": "markdown",
   "metadata": {},
   "source": [
    "!!! 備註 !!! 假如同學進入此區塊的編輯模式(出現一堆html語法)，可以透過 \"Ctrl + Enter\" 回到顯示模式\n",
    "\n",
    "<br>\n",
    "<font face=\"微軟正黑體\">\n",
    "    <font size=\"6\">\n",
    "        <b>finalquiz9 <br><br></b>\n",
    "    </font>\n",
    "</font>\n",
    "\n",
    "\n",
    "<font face = \"標楷體\">\n",
    "    <font size=\"4\">\n",
    "        <b>問題描述：</b><br><br>\n",
    "        &nbsp;&nbsp;&nbsp;&nbsp;連續輸入n個數字比大小，直到0停止輸入，由小到大輸出此n個數字<br><br>\n",
    "        <font color=\"red\"><b>\n",
    "            特別注意：</b><br><br>\n",
    "            &nbsp;&nbsp;&nbsp;&nbsp;輸出格式必須與下表(範例)&nbsp;\"\"\"完全相同\"\"\"<br>\n",
    "            &nbsp;&nbsp;&nbsp;&nbsp;且輸出結果必須在一行內(如範例)&nbsp;!!!不可換行!!!\n",
    "        <br><br></font>\n",
    "       &nbsp;&nbsp;&nbsp;&nbsp;&nbsp;&nbsp;&nbsp;&nbsp;&nbsp;&nbsp;&nbsp;&nbsp;&nbsp;&nbsp;&nbsp;&nbsp;&nbsp;&nbsp;&nbsp;&nbsp;&nbsp;&nbsp;&nbsp;&nbsp;&nbsp;&nbsp;&nbsp;&nbsp;&nbsp;&nbsp;&nbsp;&nbsp;&nbsp;&nbsp;&nbsp;&nbsp;&nbsp;&nbsp;&nbsp;&nbsp;<b>範例例(1)</b><br>\n",
    "    </font>\n",
    "</font>\n",
    "\n",
    "\n",
    "\n",
    "| <font size=\"4\">Sample Input      | <font size=\"4\">Sample Output |\n",
    "|  ---        |     ----    |\n",
    "| <font size=\"4\">11     | <font size=\"4\">12345       |\n",
    "\n",
    "<font face = \"標楷體\">\n",
    "    <font size=\"4\">\n",
    "        <br>\n",
    "&nbsp;&nbsp;&nbsp;&nbsp;&nbsp;&nbsp;&nbsp;&nbsp;&nbsp;&nbsp;&nbsp;&nbsp;&nbsp;&nbsp;&nbsp;&nbsp;&nbsp;&nbsp;&nbsp;&nbsp;&nbsp;&nbsp;&nbsp;&nbsp;&nbsp;&nbsp;&nbsp;&nbsp;&nbsp;&nbsp;&nbsp;&nbsp;&nbsp;&nbsp;&nbsp;&nbsp;&nbsp;&nbsp;&nbsp;&nbsp;<b>範例例(2)</b><br/>\n",
    "    </font>\n",
    "</font>\n",
    "\n",
    "| <font size=\"4\">Sample Input      | <font size=\"4\">Sample Output |\n",
    "|  ---        |     ----    |\n",
    "| <font size=\"4\">123<br>9600<br><font color=\"red\">17</font><br>789<br><font color=\"red\">654</font><br><font color=\"red\">1462</font><br>0   | <font size=\"4\"><font color=\"red\">17</font>123<font color=\"red\">654</font>789<font color=\"red\">1462</font>9600        |\n",
    "\n"
   ]
  },
  {
   "cell_type": "code",
   "execution_count": null,
   "metadata": {},
   "outputs": [],
   "source": []
  }
 ],
 "metadata": {
  "kernelspec": {
   "display_name": "Python 3",
   "language": "python",
   "name": "python3"
  },
  "language_info": {
   "codemirror_mode": {
    "name": "ipython",
    "version": 3
   },
   "file_extension": ".py",
   "mimetype": "text/x-python",
   "name": "python",
   "nbconvert_exporter": "python",
   "pygments_lexer": "ipython3",
   "version": "3.6.7"
  }
 },
 "nbformat": 4,
 "nbformat_minor": 2
}

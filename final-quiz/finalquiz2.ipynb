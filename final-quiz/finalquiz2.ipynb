{
 "cells": [
  {
   "cell_type": "markdown",
   "metadata": {},
   "source": [
    "!!! 備註 !!! 假如同學進入此區塊的編輯模式(出現一堆html語法)，可以透過 \"Ctrl + Enter\" 回到顯示模式\n",
    "\n",
    "<br>\n",
    "<font face=\"微軟正黑體\">\n",
    "    <font size=\"6\">\n",
    "        <b>finalquiz2 <br><br></b>\n",
    "    </font>\n",
    "</font>\n",
    "\n",
    "\n",
    "<font face = \"標楷體\">\n",
    "    <font size=\"4\">\n",
    "        <b>問題描述：</b><br><br>\n",
    "        &nbsp;&nbsp;&nbsp;&nbsp;輸入2正整數，輸出此2正整數之間的奇數，不包含頭尾<br><br>\n",
    "        <font color=\"red\"><b>\n",
    "            特別注意：</b><br><br>\n",
    "            &nbsp;&nbsp;&nbsp;&nbsp;輸出格式必須與下表(範例)&nbsp;\"\"\"完全相同\"\"\"<br>\n",
    "            &nbsp;&nbsp;&nbsp;&nbsp;且輸出結果必須在一行內(如範例)&nbsp;!!!不可換行!!!\n",
    "        <br><br></font>\n",
    "       &nbsp;&nbsp;&nbsp;&nbsp;&nbsp;&nbsp;&nbsp;&nbsp;&nbsp;&nbsp;&nbsp;&nbsp;&nbsp;&nbsp;&nbsp;&nbsp;&nbsp;&nbsp;&nbsp;&nbsp;&nbsp;&nbsp;&nbsp;&nbsp;&nbsp;&nbsp;&nbsp;&nbsp;&nbsp;&nbsp;&nbsp;&nbsp;&nbsp;&nbsp;&nbsp;&nbsp;&nbsp;&nbsp;&nbsp;&nbsp;<b>範例例(1)</b><br>\n",
    "    </font>\n",
    "</font>\n",
    "\n",
    "\n",
    "\n",
    "| <font size=\"4\">Sample Input      | <font size=\"4\">Sample Output |\n",
    "|  ---        |     ----    |\n",
    "| <font size=\"4\">15<br>30     | <font size=\"4\">17192123252729       |\n",
    "\n",
    "<font face = \"標楷體\">\n",
    "    <font size=\"4\">\n",
    "        <br>\n",
    "&nbsp;&nbsp;&nbsp;&nbsp;&nbsp;&nbsp;&nbsp;&nbsp;&nbsp;&nbsp;&nbsp;&nbsp;&nbsp;&nbsp;&nbsp;&nbsp;&nbsp;&nbsp;&nbsp;&nbsp;&nbsp;&nbsp;&nbsp;&nbsp;&nbsp;&nbsp;&nbsp;&nbsp;&nbsp;&nbsp;&nbsp;&nbsp;&nbsp;&nbsp;&nbsp;&nbsp;&nbsp;&nbsp;&nbsp;&nbsp;<b>範例例(2)</b><br/>\n",
    "    </font>\n",
    "</font>\n",
    "\n",
    "| <font size=\"4\">Sample Input      | <font size=\"4\">Sample Output |\n",
    "|  ---        |     ----    |\n",
    "| <font size=\"4\">85<br>101   | <font size=\"4\">87899193959799        |\n",
    "\n"
   ]
  },
  {
   "cell_type": "code",
   "execution_count": null,
   "metadata": {},
   "outputs": [],
   "source": []
  }
 ],
 "metadata": {
  "kernelspec": {
   "display_name": "Python 3",
   "language": "python",
   "name": "python3"
  },
  "language_info": {
   "codemirror_mode": {
    "name": "ipython",
    "version": 3
   },
   "file_extension": ".py",
   "mimetype": "text/x-python",
   "name": "python",
   "nbconvert_exporter": "python",
   "pygments_lexer": "ipython3",
   "version": "3.6.7"
  }
 },
 "nbformat": 4,
 "nbformat_minor": 2
}

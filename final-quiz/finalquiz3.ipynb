{
 "cells": [
  {
   "cell_type": "markdown",
   "metadata": {},
   "source": [
    "!!! 備註 !!! 假如同學進入此區塊的編輯模式(出現一堆html語法)，可以透過 \"Ctrl + Enter\" 回到顯示模式\n",
    "\n",
    "<br>\n",
    "<font face=\"微軟正黑體\">\n",
    "    <font size=\"6\">\n",
    "        <b>finalquiz3 <br><br></b>\n",
    "    </font>\n",
    "</font>\n",
    "\n",
    "\n",
    "<font face = \"標楷體\">\n",
    "    <font size=\"4\">\n",
    "        <b>問題描述：</b><br><br>\n",
    "        &nbsp;&nbsp;&nbsp;&nbsp;連續輸入多個正整數，直到輸入0時，停止輸入。並輸出所有輸入的數的總和<br><br>\n",
    "        <font color=\"red\"><b>\n",
    "            特別注意：</b><br><br>\n",
    "            &nbsp;&nbsp;&nbsp;&nbsp;輸出格式必須與下表(範例)&nbsp;\"\"\"完全相同\"\"\"<br>\n",
    "            &nbsp;&nbsp;&nbsp;&nbsp;且輸出結果必須在一行內(如範例)&nbsp;!!!不可換行!!!\n",
    "        <br><br></font>\n",
    "       &nbsp;&nbsp;&nbsp;&nbsp;&nbsp;&nbsp;&nbsp;&nbsp;&nbsp;&nbsp;&nbsp;&nbsp;&nbsp;&nbsp;&nbsp;&nbsp;&nbsp;&nbsp;&nbsp;&nbsp;&nbsp;&nbsp;&nbsp;&nbsp;&nbsp;&nbsp;&nbsp;&nbsp;&nbsp;&nbsp;&nbsp;&nbsp;&nbsp;&nbsp;&nbsp;&nbsp;&nbsp;&nbsp;&nbsp;&nbsp;<b>範例例(1)</b><br>\n",
    "    </font>\n",
    "</font>\n",
    "\n",
    "\n",
    "\n",
    "| <font size=\"4\">Sample Input      | <font size=\"4\">Sample Output |\n",
    "|  ---        |     ----    |\n",
    "| <font size=\"4\">7<br>13<br>20<br>20<br>0     | <font size=\"4\">60       |\n",
    "\n",
    "<font face = \"標楷體\">\n",
    "    <font size=\"4\">\n",
    "        <br>\n",
    "&nbsp;&nbsp;&nbsp;&nbsp;&nbsp;&nbsp;&nbsp;&nbsp;&nbsp;&nbsp;&nbsp;&nbsp;&nbsp;&nbsp;&nbsp;&nbsp;&nbsp;&nbsp;&nbsp;&nbsp;&nbsp;&nbsp;&nbsp;&nbsp;&nbsp;&nbsp;&nbsp;&nbsp;&nbsp;&nbsp;&nbsp;&nbsp;&nbsp;&nbsp;&nbsp;&nbsp;&nbsp;&nbsp;&nbsp;&nbsp;<b>範例例(2)</b><br/>\n",
    "    </font>\n",
    "</font>\n",
    "\n",
    "| <font size=\"4\">Sample Input      | <font size=\"4\">Sample Output |\n",
    "|  ---        |     ----    |\n",
    "| <font size=\"4\">15<br>1690<br>1893<br>496<br>6851<br>35<br>69074<br>   | <font size=\"4\">80054        |\n",
    "\n"
   ]
  },
  {
   "cell_type": "code",
   "execution_count": null,
   "metadata": {},
   "outputs": [],
   "source": []
  }
 ],
 "metadata": {
  "kernelspec": {
   "display_name": "Python 3",
   "language": "python",
   "name": "python3"
  },
  "language_info": {
   "codemirror_mode": {
    "name": "ipython",
    "version": 3
   },
   "file_extension": ".py",
   "mimetype": "text/x-python",
   "name": "python",
   "nbconvert_exporter": "python",
   "pygments_lexer": "ipython3",
   "version": "3.6.7"
  }
 },
 "nbformat": 4,
 "nbformat_minor": 2
}

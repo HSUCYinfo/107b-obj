{
  "nbformat": 4,
  "nbformat_minor": 0,
  "metadata": {
    "colab": {
      "provenance": [],
      "collapsed_sections": [],
      "authorship_tag": "ABX9TyNYqTCuLTWMRkYJxH6SfNl4",
      "include_colab_link": true
    },
    "kernelspec": {
      "name": "python3",
      "display_name": "Python 3"
    },
    "language_info": {
      "name": "python"
    }
  },
  "cells": [
    {
      "cell_type": "markdown",
      "metadata": {
        "id": "view-in-github",
        "colab_type": "text"
      },
      "source": [
        "<a href=\"https://colab.research.google.com/github/HSUCYinfo/107b-obj/blob/master/m1129016.ipynb\" target=\"_parent\"><img src=\"https://colab.research.google.com/assets/colab-badge.svg\" alt=\"Open In Colab\"/></a>"
      ]
    },
    {
      "cell_type": "markdown",
      "source": [
        "樣型識別作業 M1129016徐丞毅"
      ],
      "metadata": {
        "id": "OrB6ZnXNkerN"
      }
    },
    {
      "cell_type": "code",
      "source": [
        "import numpy as np\n",
        "import tensorflow as tf\n",
        "import tensorflow.keras as keras"
      ],
      "metadata": {
        "id": "GpZvisRWXO4-"
      },
      "execution_count": null,
      "outputs": []
    },
    {
      "cell_type": "code",
      "source": [
        "\n",
        "(xr,yr), (xt,yt)= keras.datasets.mnist.load_data()"
      ],
      "metadata": {
        "id": "RImVtz0tbyxq"
      },
      "execution_count": null,
      "outputs": []
    },
    {
      "cell_type": "code",
      "source": [
        "xr.shape, yr.shape, xt.shape, yt.shape"
      ],
      "metadata": {
        "colab": {
          "base_uri": "https://localhost:8080/"
        },
        "id": "2WZ-vx-xb0mT",
        "outputId": "d3610b6f-6eb6-4ffb-a4b9-b69cd28b77c4"
      },
      "execution_count": null,
      "outputs": [
        {
          "output_type": "execute_result",
          "data": {
            "text/plain": [
              "((60000, 28, 28), (60000,), (10000, 28, 28), (10000,))"
            ]
          },
          "metadata": {},
          "execution_count": 36
        }
      ]
    },
    {
      "cell_type": "code",
      "source": [
        "x= xr[6000]\n",
        "#%%\n",
        "for i in range(28):\n",
        "    for j in range(28):\n",
        "        z= x[i,j]\n",
        "        print(f'{z:3d}', end='')\n",
        "    print()"
      ],
      "metadata": {
        "colab": {
          "base_uri": "https://localhost:8080/"
        },
        "id": "xt0GPlcFb18s",
        "outputId": "ebedb067-9554-44d8-8674-663848f8a91a"
      },
      "execution_count": null,
      "outputs": [
        {
          "output_type": "stream",
          "name": "stdout",
          "text": [
            "  0  0  0  0  0  0  0  0  0  0  0  0  0  0  0  0  0  0  0  0  0  0  0  0  0  0  0  0\n",
            "  0  0  0  0  0  0  0  0  0  0  0  0  0  0  0  0  0  0  0  0  0  0  0  0  0  0  0  0\n",
            "  0  0  0  0  0  0  0  0  0  0  0  0  0  0  0  0  0  0  0  0  0  0  0  0  0  0  0  0\n",
            "  0  0  0  0  0  0  0  0  0  0  0  0  0  0  0  0 59200255229  0  0  0  0  0  0  0  0\n",
            "  0  0  0  0  0  0  0  0  0  0  0  0  0  0  0 50200253251102  0  0  0  0  0  0  0  0\n",
            "  0  0  0  0  0  0  0  0  0  0  0  0  0  0 59236254224 98  0  0  0  0  0  0  0  0  0\n",
            "  0  0  0  0  0  0  0  0  0  0  0  0  4 21236254217 74  0  0  0  0  0  0  0  0  0  0\n",
            "  0  0  0  0  0  0  0  0  0  0  0  0 70254253252 67  0  0  0  0  0  0  0  0  0  0  0\n",
            "  0  0  0  0  0  0  0  0  0  0  0 11192254253108  0  0  0  0  0  0  0  0  0  0  0  0\n",
            "  0  0  0  0  0  0  0  0  0  0  0119253254184 14  0  0  0  0  0  0  0  0  0  0  0  0\n",
            "  0  0  0  0  0  0  0  0  0  0 84250253239  9  0  0  0  0  0  0  0  0  0  0  0  0  0\n",
            "  0  0  0  0  0  0  0  0  0  0130254239 61  0  0  0  0  0  0  0  0  0  0  0  0  0  0\n",
            "  0  0  0  0  0  0  0  0  0 64242253213  0  0  0  0  0  0  0  0  0  0  0  0  0  0  0\n",
            "  0  0  0  0  0  0  0  0  0175253252170  0  0  0  0  3  5  5  4  0  0  0  0  0  0  0\n",
            "  0  0  0  0  0  0  0  0  5193254169  0  0 12 61123202253254224 36  0  0  0  0  0  0\n",
            "  0  0  0  0  0  0  0  0 66253253 85 25152222253254253253254253164  0  0  0  0  0  0\n",
            "  0  0  0  0  0  0  0  0159253253 93171253253195 84 84170254253219  0  0  0  0  0  0\n",
            "  0  0  0  0  0  0  0  0169254227 18182254209  6  0  0120254254130  0  0  0  0  0  0\n",
            "  0  0  0  0  0  0  0  0219253184  0 12 74 60  0  0 82229254228 43  0  0  0  0  0  0\n",
            "  0  0  0  0  0  0  0  0 75254251 78  0  0  0  0 46188254250181  8  0  0  0  0  0  0\n",
            "  0  0  0  0  0  0  0  0  6194254232 46  0 54131230254253119  0  0  0  0  0  0  0  0\n",
            "  0  0  0  0  0  0  0  0  0 76222254249245250254254215142 13  0  0  0  0  0  0  0  0\n",
            "  0  0  0  0  0  0  0  0  0  0 28 88169253175 54 54  9  0  0  0  0  0  0  0  0  0  0\n",
            "  0  0  0  0  0  0  0  0  0  0  0  0  0  0  0  0  0  0  0  0  0  0  0  0  0  0  0  0\n",
            "  0  0  0  0  0  0  0  0  0  0  0  0  0  0  0  0  0  0  0  0  0  0  0  0  0  0  0  0\n",
            "  0  0  0  0  0  0  0  0  0  0  0  0  0  0  0  0  0  0  0  0  0  0  0  0  0  0  0  0\n",
            "  0  0  0  0  0  0  0  0  0  0  0  0  0  0  0  0  0  0  0  0  0  0  0  0  0  0  0  0\n",
            "  0  0  0  0  0  0  0  0  0  0  0  0  0  0  0  0  0  0  0  0  0  0  0  0  0  0  0  0\n"
          ]
        }
      ]
    },
    {
      "cell_type": "code",
      "source": [
        "import matplotlib.pyplot as pl\n",
        "pl.imshow(x)"
      ],
      "metadata": {
        "colab": {
          "base_uri": "https://localhost:8080/",
          "height": 282
        },
        "id": "J-pIzPDCb-AC",
        "outputId": "3f24a67c-03ca-43cf-89f4-2c5e95cdfb90"
      },
      "execution_count": null,
      "outputs": [
        {
          "output_type": "execute_result",
          "data": {
            "text/plain": [
              "<matplotlib.image.AxesImage at 0x7fa41f480590>"
            ]
          },
          "metadata": {},
          "execution_count": 41
        },
        {
          "output_type": "display_data",
          "data": {
            "text/plain": [
              "<Figure size 432x288 with 1 Axes>"
            ],
            "image/png": "[encoded data removed]"
          },
          "metadata": {
            "needs_background": "light"
          }
        }
      ]
    },
    {
      "cell_type": "code",
      "source": [
        "xr1= xr.reshape(-1, 28*28) \n",
        "xt1= xt.reshape(-1, 28*28) "
      ],
      "metadata": {
        "id": "47z3FVftb_06"
      },
      "execution_count": null,
      "outputs": []
    },
    {
      "cell_type": "code",
      "source": [
        "aModel= keras.Sequential([\n",
        "    keras.Input(28*28),\n",
        "    keras.layers.Dense(100),    \n",
        "    keras.layers.Dense(10)   \n",
        "    ])\n",
        "\n",
        "aModel.compile(\n",
        "    loss=     'sparse_categorical_crossentropy',\n",
        "    metrics= ['accuracy']\n",
        "    )"
      ],
      "metadata": {
        "id": "gntmEFdKcdW6"
      },
      "execution_count": null,
      "outputs": []
    },
    {
      "cell_type": "code",
      "source": [
        "aModel.summary()\n",
        "\n",
        "keras.utils.plot_model(aModel, \n",
        "    show_shapes= True, \n",
        "    show_layer_activations= True)"
      ],
      "metadata": {
        "colab": {
          "base_uri": "https://localhost:8080/",
          "height": 538
        },
        "id": "GywJxzh1cf0C",
        "outputId": "f86231e4-7e43-4e63-8d14-c380e57c6ec6"
      },
      "execution_count": null,
      "outputs": [
        {
          "output_type": "stream",
          "name": "stdout",
          "text": [
            "Model: \"sequential_2\"\n",
            "_________________________________________________________________\n",
            " Layer (type)                Output Shape              Param #   \n",
            "=================================================================\n",
            " dense (Dense)               (None, 100)               78500     \n",
            "                                                                 \n",
            " dense_1 (Dense)             (None, 10)                1010      \n",
            "                                                                 \n",
            "=================================================================\n",
            "Total params: 79,510\n",
            "Trainable params: 79,510\n",
            "Non-trainable params: 0\n",
            "_________________________________________________________________\n"
          ]
        },
        {
          "output_type": "execute_result",
          "data": {
            "image/png": "[encoded data removed]",
            "text/plain": [
              "<IPython.core.display.Image object>"
            ]
          },
          "metadata": {},
          "execution_count": 45
        }
      ]
    },
    {
      "cell_type": "code",
      "source": [
        "aModel.fit(xr1, yr, \n",
        "           epochs= 10, \n",
        "           batch_size= 100)\n",
        "\n",
        "aModel.evaluate(xt1, yt)"
      ],
      "metadata": {
        "colab": {
          "base_uri": "https://localhost:8080/"
        },
        "id": "NtYRtFzLcoCy",
        "outputId": "0efd5504-d57e-443d-b8b2-d00a7041c04a"
      },
      "execution_count": null,
      "outputs": [
        {
          "output_type": "stream",
          "name": "stdout",
          "text": [
            "Epoch 1/10\n",
            "600/600 [==============================] - 3s 4ms/step - loss: 3.0562 - accuracy: 0.1905\n",
            "Epoch 2/10\n",
            "600/600 [==============================] - 2s 4ms/step - loss: 2.2297 - accuracy: 0.1594\n",
            "Epoch 3/10\n",
            "600/600 [==============================] - 2s 4ms/step - loss: 2.2629 - accuracy: 0.1672\n",
            "Epoch 4/10\n",
            "600/600 [==============================] - 3s 4ms/step - loss: 2.2785 - accuracy: 0.1666\n",
            "Epoch 5/10\n",
            "600/600 [==============================] - 2s 4ms/step - loss: 2.2094 - accuracy: 0.1828\n",
            "Epoch 6/10\n",
            "600/600 [==============================] - 2s 4ms/step - loss: 2.2385 - accuracy: 0.1882\n",
            "Epoch 7/10\n",
            "600/600 [==============================] - 2s 4ms/step - loss: 2.2438 - accuracy: 0.1939\n",
            "Epoch 8/10\n",
            "600/600 [==============================] - 2s 4ms/step - loss: 2.2046 - accuracy: 0.1894\n",
            "Epoch 9/10\n",
            "600/600 [==============================] - 2s 4ms/step - loss: 2.1558 - accuracy: 0.2023\n",
            "Epoch 10/10\n",
            "600/600 [==============================] - 2s 4ms/step - loss: 2.2447 - accuracy: 0.1493\n",
            "313/313 [==============================] - 1s 2ms/step - loss: 2.1905 - accuracy: 0.1671\n"
          ]
        },
        {
          "output_type": "execute_result",
          "data": {
            "text/plain": [
              "[2.1904540061950684, 0.1670999974012375]"
            ]
          },
          "metadata": {},
          "execution_count": 46
        }
      ]
    },
    {
      "cell_type": "code",
      "source": [
        "aModel= keras.Sequential([\n",
        "    keras.Input(28*28),\n",
        "    keras.layers.Dense(100, activation= 'sigmoid'),    \n",
        "    keras.layers.Dense(10)   \n",
        "    ])\n",
        "\n",
        "aModel.compile(\n",
        "    loss=     'sparse_categorical_crossentropy',\n",
        "    metrics= ['accuracy']\n",
        "    )\n",
        "\n",
        "aModel.fit(xr1, yr, \n",
        "           epochs= 10, \n",
        "           batch_size= 100)\n",
        "\n",
        "aModel.evaluate(xt1, yt)"
      ],
      "metadata": {
        "colab": {
          "base_uri": "https://localhost:8080/"
        },
        "id": "-Gy7TAypdHDy",
        "outputId": "d77adf47-743c-418a-854e-d2430edb51ef"
      },
      "execution_count": null,
      "outputs": [
        {
          "output_type": "stream",
          "name": "stdout",
          "text": [
            "Epoch 1/10\n",
            "600/600 [==============================] - 3s 4ms/step - loss: 2.2807 - accuracy: 0.2063\n",
            "Epoch 2/10\n",
            "600/600 [==============================] - 2s 4ms/step - loss: 2.1524 - accuracy: 0.1933\n",
            "Epoch 3/10\n",
            "600/600 [==============================] - 2s 4ms/step - loss: 2.1592 - accuracy: 0.1971\n",
            "Epoch 4/10\n",
            "600/600 [==============================] - 2s 4ms/step - loss: 2.2385 - accuracy: 0.1840\n",
            "Epoch 5/10\n",
            "600/600 [==============================] - 2s 4ms/step - loss: 2.2693 - accuracy: 0.1897\n",
            "Epoch 6/10\n",
            "600/600 [==============================] - 2s 4ms/step - loss: 2.3028 - accuracy: 0.1977\n",
            "Epoch 7/10\n",
            "600/600 [==============================] - 2s 4ms/step - loss: 2.3026 - accuracy: 0.1982\n",
            "Epoch 8/10\n",
            "600/600 [==============================] - 2s 4ms/step - loss: 2.3026 - accuracy: 0.1982\n",
            "Epoch 9/10\n",
            "600/600 [==============================] - 2s 4ms/step - loss: 2.3026 - accuracy: 0.1982\n",
            "Epoch 10/10\n",
            "600/600 [==============================] - 2s 4ms/step - loss: 2.3026 - accuracy: 0.1982\n",
            "313/313 [==============================] - 1s 2ms/step - loss: 2.3026 - accuracy: 0.2030\n"
          ]
        },
        {
          "output_type": "execute_result",
          "data": {
            "text/plain": [
              "[2.30259108543396, 0.2029999941587448]"
            ]
          },
          "metadata": {},
          "execution_count": 47
        }
      ]
    },
    {
      "cell_type": "code",
      "source": [
        "aModel= keras.Sequential([\n",
        "    keras.Input(28*28),\n",
        "    keras.layers.Dense(100, activation= 'sigmoid'),    \n",
        "    keras.layers.Dense(10,  activation= 'sigmoid')\n",
        "    ])\n",
        "\n",
        "aModel.compile(\n",
        "    loss=     'sparse_categorical_crossentropy',\n",
        "    metrics= ['accuracy']\n",
        "    )\n",
        "\n",
        "aModel.fit(xr1, yr, \n",
        "           epochs= 10, \n",
        "           batch_size= 100)\n",
        "\n",
        "aModel.evaluate(xt1, yt)"
      ],
      "metadata": {
        "colab": {
          "base_uri": "https://localhost:8080/"
        },
        "id": "6harJfYjeFrr",
        "outputId": "e72070c8-1fe1-4a7f-be87-42d9aec3bb3e"
      },
      "execution_count": null,
      "outputs": [
        {
          "output_type": "stream",
          "name": "stdout",
          "text": [
            "Epoch 1/10\n",
            "600/600 [==============================] - 3s 4ms/step - loss: 0.5512 - accuracy: 0.8469\n",
            "Epoch 2/10\n",
            "600/600 [==============================] - 2s 4ms/step - loss: 0.3049 - accuracy: 0.9090\n",
            "Epoch 3/10\n",
            "600/600 [==============================] - 2s 4ms/step - loss: 0.2603 - accuracy: 0.9218\n",
            "Epoch 4/10\n",
            "600/600 [==============================] - 2s 4ms/step - loss: 0.2383 - accuracy: 0.9289\n",
            "Epoch 5/10\n",
            "600/600 [==============================] - 2s 4ms/step - loss: 0.2241 - accuracy: 0.9326\n",
            "Epoch 6/10\n",
            "600/600 [==============================] - 2s 4ms/step - loss: 0.2105 - accuracy: 0.9366\n",
            "Epoch 7/10\n",
            "600/600 [==============================] - 2s 4ms/step - loss: 0.2008 - accuracy: 0.9403\n",
            "Epoch 8/10\n",
            "600/600 [==============================] - 2s 4ms/step - loss: 0.1965 - accuracy: 0.9403\n",
            "Epoch 9/10\n",
            "600/600 [==============================] - 2s 4ms/step - loss: 0.1893 - accuracy: 0.9431\n",
            "Epoch 10/10\n",
            "600/600 [==============================] - 2s 4ms/step - loss: 0.1825 - accuracy: 0.9458\n",
            "313/313 [==============================] - 1s 2ms/step - loss: 0.1814 - accuracy: 0.9428\n"
          ]
        },
        {
          "output_type": "execute_result",
          "data": {
            "text/plain": [
              "[0.18139435350894928, 0.942799985408783]"
            ]
          },
          "metadata": {},
          "execution_count": 48
        }
      ]
    },
    {
      "cell_type": "code",
      "source": [
        "aModel= keras.Sequential([\n",
        "    keras.Input(28*28),\n",
        "    keras.layers.Dense(100, activation= 'relu'),    \n",
        "    keras.layers.Dense(10,  activation= 'softmax')\n",
        "    ])\n",
        "\n",
        "aModel.compile(\n",
        "    loss=     'sparse_categorical_crossentropy',\n",
        "    metrics= ['accuracy']\n",
        "    )\n",
        "\n",
        "aModel.fit(xr1, yr, \n",
        "           epochs= 10, \n",
        "           batch_size= 100)\n",
        "\n",
        "aModel.evaluate(xt1, yt)"
      ],
      "metadata": {
        "colab": {
          "base_uri": "https://localhost:8080/"
        },
        "id": "FGHYotkTeYUC",
        "outputId": "b35656a3-1c35-46fb-b221-17cf2fc3bd01"
      },
      "execution_count": null,
      "outputs": [
        {
          "output_type": "stream",
          "name": "stdout",
          "text": [
            "Epoch 1/10\n",
            "600/600 [==============================] - 3s 4ms/step - loss: 3.4480 - accuracy: 0.8538\n",
            "Epoch 2/10\n",
            "600/600 [==============================] - 2s 4ms/step - loss: 0.5016 - accuracy: 0.9168\n",
            "Epoch 3/10\n",
            "600/600 [==============================] - 2s 4ms/step - loss: 0.3702 - accuracy: 0.9390\n",
            "Epoch 4/10\n",
            "600/600 [==============================] - 2s 4ms/step - loss: 0.2933 - accuracy: 0.9511\n",
            "Epoch 5/10\n",
            "600/600 [==============================] - 2s 4ms/step - loss: 0.2515 - accuracy: 0.9556\n",
            "Epoch 6/10\n",
            "600/600 [==============================] - 2s 4ms/step - loss: 0.2302 - accuracy: 0.9603\n",
            "Epoch 7/10\n",
            "600/600 [==============================] - 2s 4ms/step - loss: 0.2122 - accuracy: 0.9639\n",
            "Epoch 8/10\n",
            "600/600 [==============================] - 2s 4ms/step - loss: 0.1797 - accuracy: 0.9669\n",
            "Epoch 9/10\n",
            "600/600 [==============================] - 2s 4ms/step - loss: 0.1678 - accuracy: 0.9699\n",
            "Epoch 10/10\n",
            "600/600 [==============================] - 2s 4ms/step - loss: 0.1576 - accuracy: 0.9716\n",
            "313/313 [==============================] - 1s 2ms/step - loss: 0.4974 - accuracy: 0.9496\n"
          ]
        },
        {
          "output_type": "execute_result",
          "data": {
            "text/plain": [
              "[0.49735474586486816, 0.9495999813079834]"
            ]
          },
          "metadata": {},
          "execution_count": 49
        }
      ]
    },
    {
      "cell_type": "code",
      "source": [
        "xr1= xr.reshape(-1,28*28) /255\n",
        "xt1= xt.reshape(-1,28*28) /255\n",
        "\n",
        "\n",
        "aModel= keras.Sequential([\n",
        "    keras.Input(28*28),\n",
        "    keras.layers.Dense(100, activation= 'relu'),    \n",
        "    keras.layers.Dense(10,  activation= 'softmax')\n",
        "    ])\n",
        "\n",
        "aModel.compile(\n",
        "    loss=     'sparse_categorical_crossentropy',\n",
        "    metrics= ['accuracy']\n",
        "    )\n",
        "\n",
        "aModel.fit(xr1, yr, \n",
        "           epochs= 10, \n",
        "           batch_size= 100)\n",
        "\n",
        "aModel.evaluate(xt1, yt)"
      ],
      "metadata": {
        "colab": {
          "base_uri": "https://localhost:8080/"
        },
        "id": "FqtaaUSgef_b",
        "outputId": "fc92c14a-e01f-4e1e-b372-4a7c6473df89"
      },
      "execution_count": null,
      "outputs": [
        {
          "output_type": "stream",
          "name": "stdout",
          "text": [
            "Epoch 1/10\n",
            "600/600 [==============================] - 3s 4ms/step - loss: 0.3313 - accuracy: 0.9082\n",
            "Epoch 2/10\n",
            "600/600 [==============================] - 2s 4ms/step - loss: 0.1564 - accuracy: 0.9541\n",
            "Epoch 3/10\n",
            "600/600 [==============================] - 2s 3ms/step - loss: 0.1133 - accuracy: 0.9669\n",
            "Epoch 4/10\n",
            "600/600 [==============================] - 2s 4ms/step - loss: 0.0898 - accuracy: 0.9737\n",
            "Epoch 5/10\n",
            "600/600 [==============================] - 2s 4ms/step - loss: 0.0743 - accuracy: 0.9783\n",
            "Epoch 6/10\n",
            "600/600 [==============================] - 2s 4ms/step - loss: 0.0628 - accuracy: 0.9813\n",
            "Epoch 7/10\n",
            "600/600 [==============================] - 2s 4ms/step - loss: 0.0549 - accuracy: 0.9836\n",
            "Epoch 8/10\n",
            "600/600 [==============================] - 2s 4ms/step - loss: 0.0476 - accuracy: 0.9860\n",
            "Epoch 9/10\n",
            "600/600 [==============================] - 2s 4ms/step - loss: 0.0411 - accuracy: 0.9881\n",
            "Epoch 10/10\n",
            "600/600 [==============================] - 2s 4ms/step - loss: 0.0372 - accuracy: 0.9895\n",
            "313/313 [==============================] - 1s 2ms/step - loss: 0.0816 - accuracy: 0.9771\n"
          ]
        },
        {
          "output_type": "execute_result",
          "data": {
            "text/plain": [
              "[0.0816173404455185, 0.9771000146865845]"
            ]
          },
          "metadata": {},
          "execution_count": 50
        }
      ]
    },
    {
      "cell_type": "code",
      "source": [
        "aModel= keras.Sequential([\n",
        "    keras.Input(28*28),\n",
        "    keras.layers.Dense(200, activation= 'relu'),    \n",
        "    keras.layers.Dense(10,  activation= 'softmax')\n",
        "    ])\n",
        "\n",
        "aModel.compile(\n",
        "    loss=     'sparse_categorical_crossentropy',\n",
        "    metrics= ['accuracy']\n",
        "    )\n",
        "\n",
        "aModel.fit(xr1, yr, \n",
        "           epochs= 10, \n",
        "           batch_size= 100)\n",
        "\n",
        "aModel.evaluate(xt1, yt)"
      ],
      "metadata": {
        "colab": {
          "base_uri": "https://localhost:8080/"
        },
        "id": "y6v3cMpkeof7",
        "outputId": "867c221e-cff3-4af4-d7b4-f275f08a70e8"
      },
      "execution_count": null,
      "outputs": [
        {
          "output_type": "stream",
          "name": "stdout",
          "text": [
            "Epoch 1/10\n",
            "600/600 [==============================] - 4s 5ms/step - loss: 0.2882 - accuracy: 0.9192\n",
            "Epoch 2/10\n",
            "600/600 [==============================] - 3s 5ms/step - loss: 0.1312 - accuracy: 0.9614\n",
            "Epoch 3/10\n",
            "600/600 [==============================] - 3s 5ms/step - loss: 0.0897 - accuracy: 0.9737\n",
            "Epoch 4/10\n",
            "600/600 [==============================] - 3s 5ms/step - loss: 0.0687 - accuracy: 0.9798\n",
            "Epoch 5/10\n",
            "600/600 [==============================] - 3s 5ms/step - loss: 0.0548 - accuracy: 0.9839\n",
            "Epoch 6/10\n",
            "600/600 [==============================] - 3s 5ms/step - loss: 0.0443 - accuracy: 0.9869\n",
            "Epoch 7/10\n",
            "600/600 [==============================] - 3s 5ms/step - loss: 0.0367 - accuracy: 0.9893\n",
            "Epoch 8/10\n",
            "600/600 [==============================] - 3s 5ms/step - loss: 0.0303 - accuracy: 0.9912\n",
            "Epoch 9/10\n",
            "600/600 [==============================] - 3s 5ms/step - loss: 0.0256 - accuracy: 0.9929\n",
            "Epoch 10/10\n",
            "600/600 [==============================] - 3s 5ms/step - loss: 0.0208 - accuracy: 0.9944\n",
            "313/313 [==============================] - 1s 2ms/step - loss: 0.0733 - accuracy: 0.9790\n"
          ]
        },
        {
          "output_type": "execute_result",
          "data": {
            "text/plain": [
              "[0.07330793142318726, 0.9789999723434448]"
            ]
          },
          "metadata": {},
          "execution_count": 51
        }
      ]
    },
    {
      "cell_type": "code",
      "source": [
        "aModel= keras.Sequential([\n",
        "    keras.Input(28*28),\n",
        "    keras.layers.Dense(100, activation= 'relu'), \n",
        "    keras.layers.Dense(100, activation= 'relu'), \n",
        "    keras.layers.Dense(10,  activation= 'softmax')\n",
        "    ])\n",
        "\n",
        "aModel.compile(\n",
        "    loss=     'sparse_categorical_crossentropy',\n",
        "    metrics= ['accuracy']\n",
        "    )\n",
        "\n",
        "aModel.fit(xr1, yr, \n",
        "           epochs= 10, \n",
        "           batch_size= 100)\n",
        "\n",
        "aModel.evaluate(xt1, yt)"
      ],
      "metadata": {
        "colab": {
          "base_uri": "https://localhost:8080/"
        },
        "id": "QgGi2aOOe7DJ",
        "outputId": "72998d77-33ec-41c1-d606-c3c91cd6348d"
      },
      "execution_count": null,
      "outputs": [
        {
          "output_type": "stream",
          "name": "stdout",
          "text": [
            "Epoch 1/10\n",
            "600/600 [==============================] - 4s 4ms/step - loss: 0.3052 - accuracy: 0.9122\n",
            "Epoch 2/10\n",
            "600/600 [==============================] - 3s 4ms/step - loss: 0.1327 - accuracy: 0.9605\n",
            "Epoch 3/10\n",
            "600/600 [==============================] - 3s 4ms/step - loss: 0.0926 - accuracy: 0.9721\n",
            "Epoch 4/10\n",
            "600/600 [==============================] - 3s 4ms/step - loss: 0.0710 - accuracy: 0.9783\n",
            "Epoch 5/10\n",
            "600/600 [==============================] - 2s 4ms/step - loss: 0.0571 - accuracy: 0.9825\n",
            "Epoch 6/10\n",
            "600/600 [==============================] - 2s 4ms/step - loss: 0.0471 - accuracy: 0.9854\n",
            "Epoch 7/10\n",
            "600/600 [==============================] - 3s 4ms/step - loss: 0.0389 - accuracy: 0.9882\n",
            "Epoch 8/10\n",
            "600/600 [==============================] - 3s 4ms/step - loss: 0.0328 - accuracy: 0.9903\n",
            "Epoch 9/10\n",
            "600/600 [==============================] - 3s 4ms/step - loss: 0.0280 - accuracy: 0.9913\n",
            "Epoch 10/10\n",
            "600/600 [==============================] - 3s 4ms/step - loss: 0.0228 - accuracy: 0.9929\n",
            "313/313 [==============================] - 1s 2ms/step - loss: 0.0857 - accuracy: 0.9773\n"
          ]
        },
        {
          "output_type": "execute_result",
          "data": {
            "text/plain": [
              "[0.08566377311944962, 0.9772999882698059]"
            ]
          },
          "metadata": {},
          "execution_count": 52
        }
      ]
    },
    {
      "cell_type": "code",
      "source": [
        "aModel= keras.Sequential([\n",
        "    keras.Input(28*28),\n",
        "    keras.layers.Dense(150, activation= 'relu'), \n",
        "    keras.layers.Dense(50,  activation= 'relu'), \n",
        "    keras.layers.Dense(10,  activation= 'softmax')\n",
        "    ])\n",
        "\n",
        "aModel.compile(\n",
        "    loss=     'sparse_categorical_crossentropy',\n",
        "    metrics= ['accuracy']\n",
        "    )\n",
        "\n",
        "aModel.fit(xr1, yr, \n",
        "           epochs= 10, \n",
        "           batch_size= 100)\n",
        "\n",
        "aModel.evaluate(xt1, yt)"
      ],
      "metadata": {
        "colab": {
          "base_uri": "https://localhost:8080/"
        },
        "id": "6aAoNzCKfmLk",
        "outputId": "61a88838-5a2c-4ad3-fc2c-a54424222163"
      },
      "execution_count": null,
      "outputs": [
        {
          "output_type": "stream",
          "name": "stdout",
          "text": [
            "Epoch 1/10\n",
            "600/600 [==============================] - 3s 5ms/step - loss: 0.2859 - accuracy: 0.9183\n",
            "Epoch 2/10\n",
            "600/600 [==============================] - 3s 5ms/step - loss: 0.1204 - accuracy: 0.9643\n",
            "Epoch 3/10\n",
            "600/600 [==============================] - 3s 5ms/step - loss: 0.0846 - accuracy: 0.9749\n",
            "Epoch 4/10\n",
            "600/600 [==============================] - 3s 5ms/step - loss: 0.0642 - accuracy: 0.9806\n",
            "Epoch 5/10\n",
            "600/600 [==============================] - 3s 5ms/step - loss: 0.0513 - accuracy: 0.9836\n",
            "Epoch 6/10\n",
            "600/600 [==============================] - 3s 5ms/step - loss: 0.0419 - accuracy: 0.9872\n",
            "Epoch 7/10\n",
            "600/600 [==============================] - 3s 5ms/step - loss: 0.0346 - accuracy: 0.9897\n",
            "Epoch 8/10\n",
            "600/600 [==============================] - 3s 5ms/step - loss: 0.0285 - accuracy: 0.9911\n",
            "Epoch 9/10\n",
            "600/600 [==============================] - 3s 5ms/step - loss: 0.0236 - accuracy: 0.9927\n",
            "Epoch 10/10\n",
            "600/600 [==============================] - 3s 5ms/step - loss: 0.0200 - accuracy: 0.9938\n",
            "313/313 [==============================] - 1s 2ms/step - loss: 0.0979 - accuracy: 0.9772\n"
          ]
        },
        {
          "output_type": "execute_result",
          "data": {
            "text/plain": [
              "[0.09791028499603271, 0.9771999716758728]"
            ]
          },
          "metadata": {},
          "execution_count": 53
        }
      ]
    },
    {
      "cell_type": "code",
      "source": [
        "aModel.summary()\n",
        "\n",
        "keras.utils.plot_model(aModel, \n",
        "    show_shapes= True, \n",
        "    show_layer_activations= True)"
      ],
      "metadata": {
        "colab": {
          "base_uri": "https://localhost:8080/",
          "height": 682
        },
        "id": "Wk_GuGTpgvph",
        "outputId": "60d6dd0b-6232-4b73-86f2-13bfe84c9878"
      },
      "execution_count": null,
      "outputs": [
        {
          "output_type": "stream",
          "name": "stdout",
          "text": [
            "Model: \"sequential_9\"\n",
            "_________________________________________________________________\n",
            " Layer (type)                Output Shape              Param #   \n",
            "=================================================================\n",
            " dense_15 (Dense)            (None, 150)               117750    \n",
            "                                                                 \n",
            " dense_16 (Dense)            (None, 50)                7550      \n",
            "                                                                 \n",
            " dense_17 (Dense)            (None, 10)                510       \n",
            "                                                                 \n",
            "=================================================================\n",
            "Total params: 125,810\n",
            "Trainable params: 125,810\n",
            "Non-trainable params: 0\n",
            "_________________________________________________________________\n"
          ]
        },
        {
          "output_type": "execute_result",
          "data": {
            "image/png": "[encoded data removed]",
            "text/plain": [
              "<IPython.core.display.Image object>"
            ]
          },
          "metadata": {},
          "execution_count": 54
        }
      ]
    },
    {
      "cell_type": "code",
      "source": [
        "aModel.fit(xr1, yr, \n",
        "           epochs= 10, \n",
        "           batch_size= 16)\n",
        "\n",
        "aModel.evaluate(xt1, yt)"
      ],
      "metadata": {
        "colab": {
          "base_uri": "https://localhost:8080/"
        },
        "id": "84wz7PcAjIqK",
        "outputId": "c1da87bb-c255-4181-d4b4-6ecec45847fa"
      },
      "execution_count": null,
      "outputs": [
        {
          "output_type": "stream",
          "name": "stdout",
          "text": [
            "Epoch 1/10\n",
            "3750/3750 [==============================] - 11s 3ms/step - loss: 2.1908 - accuracy: 0.2262\n",
            "Epoch 2/10\n",
            "3750/3750 [==============================] - 11s 3ms/step - loss: 2.1912 - accuracy: 0.2331\n",
            "Epoch 3/10\n",
            "3750/3750 [==============================] - 11s 3ms/step - loss: 2.1567 - accuracy: 0.2601\n",
            "Epoch 4/10\n",
            "3750/3750 [==============================] - 11s 3ms/step - loss: 2.1030 - accuracy: 0.2532\n",
            "Epoch 5/10\n",
            "3750/3750 [==============================] - 11s 3ms/step - loss: 2.0648 - accuracy: 0.2743\n",
            "Epoch 6/10\n",
            "3750/3750 [==============================] - 11s 3ms/step - loss: 2.0533 - accuracy: 0.3097\n",
            "Epoch 7/10\n",
            "3750/3750 [==============================] - 11s 3ms/step - loss: 2.0500 - accuracy: 0.3741\n",
            "Epoch 8/10\n",
            "3750/3750 [==============================] - 11s 3ms/step - loss: 2.0088 - accuracy: 0.4115\n",
            "Epoch 9/10\n",
            "3750/3750 [==============================] - 11s 3ms/step - loss: 2.0122 - accuracy: 0.3751\n",
            "Epoch 10/10\n",
            "3750/3750 [==============================] - 11s 3ms/step - loss: 2.0052 - accuracy: 0.3816\n",
            "313/313 [==============================] - 1s 2ms/step - loss: 2.0100 - accuracy: 0.3742\n"
          ]
        },
        {
          "output_type": "execute_result",
          "data": {
            "text/plain": [
              "[2.0099778175354004, 0.3741999864578247]"
            ]
          },
          "metadata": {},
          "execution_count": 58
        }
      ]
    },
    {
      "cell_type": "code",
      "source": [
        "aModel= keras.Sequential([\n",
        "    keras.Input(28*28),\n",
        "    keras.layers.Dense(100, activation= 'sigmoid'),    \n",
        "    keras.layers.Dense(10)   \n",
        "    ])\n",
        "\n",
        "aModel.compile(\n",
        "    loss=     'sparse_categorical_crossentropy',\n",
        "    metrics= ['accuracy']\n",
        "    )\n",
        "\n",
        "aModel.fit(xr1, yr, \n",
        "           epochs= 10, \n",
        "           batch_size= 16)\n",
        "\n",
        "aModel.evaluate(xt1, yt)"
      ],
      "metadata": {
        "colab": {
          "base_uri": "https://localhost:8080/"
        },
        "id": "TeA8ZjBMj1OZ",
        "outputId": "8a68cb30-28e5-4070-9bf7-b4d5a7ecc92e"
      },
      "execution_count": null,
      "outputs": [
        {
          "output_type": "stream",
          "name": "stdout",
          "text": [
            "Epoch 1/10\n",
            "3750/3750 [==============================] - 10s 2ms/step - loss: 10.2768 - accuracy: 0.2219\n",
            "Epoch 2/10\n",
            "3750/3750 [==============================] - 9s 2ms/step - loss: 10.1233 - accuracy: 0.2516\n",
            "Epoch 3/10\n",
            "3750/3750 [==============================] - 9s 2ms/step - loss: 3.5623 - accuracy: 0.3072\n",
            "Epoch 4/10\n",
            "3750/3750 [==============================] - 9s 2ms/step - loss: 1.9015 - accuracy: 0.2857\n",
            "Epoch 5/10\n",
            "3750/3750 [==============================] - 9s 2ms/step - loss: 1.9322 - accuracy: 0.2935\n",
            "Epoch 6/10\n",
            "3750/3750 [==============================] - 9s 2ms/step - loss: 1.9138 - accuracy: 0.2941\n",
            "Epoch 7/10\n",
            "3750/3750 [==============================] - 9s 2ms/step - loss: 1.9168 - accuracy: 0.3077\n",
            "Epoch 8/10\n",
            "3750/3750 [==============================] - 9s 2ms/step - loss: 1.9062 - accuracy: 0.3178\n",
            "Epoch 9/10\n",
            "3750/3750 [==============================] - 9s 2ms/step - loss: 1.9068 - accuracy: 0.3271\n",
            "Epoch 10/10\n",
            "3750/3750 [==============================] - 9s 2ms/step - loss: 1.9229 - accuracy: 0.3474\n",
            "313/313 [==============================] - 1s 2ms/step - loss: 1.9598 - accuracy: 0.3476\n"
          ]
        },
        {
          "output_type": "execute_result",
          "data": {
            "text/plain": [
              "[1.9597886800765991, 0.3476000130176544]"
            ]
          },
          "metadata": {},
          "execution_count": 60
        }
      ]
    },
    {
      "cell_type": "code",
      "source": [
        "aModel= keras.Sequential([\n",
        "    keras.Input(28*28),\n",
        "    keras.layers.Dense(100, activation= 'sigmoid'),    \n",
        "    keras.layers.Dense(10,  activation= 'sigmoid')\n",
        "    ])\n",
        "\n",
        "aModel.compile(\n",
        "    loss=     'sparse_categorical_crossentropy',\n",
        "    metrics= ['accuracy']\n",
        "    )\n",
        "\n",
        "aModel.fit(xr1, yr, \n",
        "           epochs= 10, \n",
        "           batch_size= 16)\n",
        "\n",
        "aModel.evaluate(xt1, yt)"
      ],
      "metadata": {
        "colab": {
          "base_uri": "https://localhost:8080/"
        },
        "id": "EpD-LS-IoeSn",
        "outputId": "fba659cc-20eb-48c3-cbcd-f6bc584d2c26"
      },
      "execution_count": null,
      "outputs": [
        {
          "output_type": "stream",
          "name": "stdout",
          "text": [
            "Epoch 1/10\n",
            "3750/3750 [==============================] - 9s 2ms/step - loss: 0.3441 - accuracy: 0.9060\n",
            "Epoch 2/10\n",
            "3750/3750 [==============================] - 9s 2ms/step - loss: 0.1854 - accuracy: 0.9453\n",
            "Epoch 3/10\n",
            "3750/3750 [==============================] - 9s 2ms/step - loss: 0.1447 - accuracy: 0.9567\n",
            "Epoch 4/10\n",
            "3750/3750 [==============================] - 8s 2ms/step - loss: 0.1216 - accuracy: 0.9636\n",
            "Epoch 5/10\n",
            "3750/3750 [==============================] - 8s 2ms/step - loss: 0.1067 - accuracy: 0.9685\n",
            "Epoch 6/10\n",
            "3750/3750 [==============================] - 9s 2ms/step - loss: 0.0945 - accuracy: 0.9724\n",
            "Epoch 7/10\n",
            "3750/3750 [==============================] - 8s 2ms/step - loss: 0.0854 - accuracy: 0.9752\n",
            "Epoch 8/10\n",
            "3750/3750 [==============================] - 8s 2ms/step - loss: 0.0788 - accuracy: 0.9772\n",
            "Epoch 9/10\n",
            "3750/3750 [==============================] - 9s 2ms/step - loss: 0.0734 - accuracy: 0.9792\n",
            "Epoch 10/10\n",
            "3750/3750 [==============================] - 9s 2ms/step - loss: 0.0680 - accuracy: 0.9807\n",
            "313/313 [==============================] - 1s 2ms/step - loss: 0.0986 - accuracy: 0.9714\n"
          ]
        },
        {
          "output_type": "execute_result",
          "data": {
            "text/plain": [
              "[0.09860378503799438, 0.9714000225067139]"
            ]
          },
          "metadata": {},
          "execution_count": 61
        }
      ]
    },
    {
      "cell_type": "code",
      "source": [
        "aModel= keras.Sequential([\n",
        "    keras.Input(28*28),\n",
        "    keras.layers.Dense(100, activation= 'relu'),    \n",
        "    keras.layers.Dense(10,  activation= 'sigmoid')\n",
        "    ])\n",
        "\n",
        "aModel.compile(\n",
        "    loss=     'sparse_categorical_crossentropy',\n",
        "    metrics= ['accuracy']\n",
        "    )\n",
        "\n",
        "aModel.fit(xr1, yr, \n",
        "           epochs= 10, \n",
        "           batch_size= 16)\n",
        "\n",
        "aModel.evaluate(xt1, yt)"
      ],
      "metadata": {
        "colab": {
          "base_uri": "https://localhost:8080/"
        },
        "id": "ftEG9RiSq3hE",
        "outputId": "803502f0-5dc9-4e9f-fbef-7e39d9b0003d"
      },
      "execution_count": null,
      "outputs": [
        {
          "output_type": "stream",
          "name": "stdout",
          "text": [
            "Epoch 1/10\n",
            "3750/3750 [==============================] - 9s 2ms/step - loss: 0.2532 - accuracy: 0.9264\n",
            "Epoch 2/10\n",
            "3750/3750 [==============================] - 8s 2ms/step - loss: 0.1286 - accuracy: 0.9637\n",
            "Epoch 3/10\n",
            "3750/3750 [==============================] - 8s 2ms/step - loss: 0.1028 - accuracy: 0.9720\n",
            "Epoch 4/10\n",
            "3750/3750 [==============================] - 9s 2ms/step - loss: 0.0877 - accuracy: 0.9769\n",
            "Epoch 5/10\n",
            "3750/3750 [==============================] - 8s 2ms/step - loss: 0.0780 - accuracy: 0.9799\n",
            "Epoch 6/10\n",
            "3750/3750 [==============================] - 8s 2ms/step - loss: 0.0704 - accuracy: 0.9818\n",
            "Epoch 7/10\n",
            "3750/3750 [==============================] - 8s 2ms/step - loss: 0.0629 - accuracy: 0.9845\n",
            "Epoch 8/10\n",
            "3750/3750 [==============================] - 8s 2ms/step - loss: 0.0589 - accuracy: 0.9856\n",
            "Epoch 9/10\n",
            "3750/3750 [==============================] - 8s 2ms/step - loss: 0.0551 - accuracy: 0.9867\n",
            "Epoch 10/10\n",
            "3750/3750 [==============================] - 8s 2ms/step - loss: 0.0502 - accuracy: 0.9878\n",
            "313/313 [==============================] - 1s 2ms/step - loss: 0.1490 - accuracy: 0.9712\n"
          ]
        },
        {
          "output_type": "execute_result",
          "data": {
            "text/plain": [
              "[0.14899678528308868, 0.9711999893188477]"
            ]
          },
          "metadata": {},
          "execution_count": 62
        }
      ]
    },
    {
      "cell_type": "code",
      "source": [
        "aModel= keras.Sequential([\n",
        "    keras.Input(28*28),\n",
        "    keras.layers.Dense(100, activation= 'relu'),    \n",
        "    keras.layers.Dense(10,  activation= 'softmax')\n",
        "    ])\n",
        "\n",
        "aModel.compile(\n",
        "    loss=     'sparse_categorical_crossentropy',\n",
        "    metrics= ['accuracy']\n",
        "    )\n",
        "\n",
        "aModel.fit(xr1, yr, \n",
        "           epochs= 10, \n",
        "           batch_size= 16)\n",
        "\n",
        "aModel.evaluate(xt1, yt)"
      ],
      "metadata": {
        "colab": {
          "base_uri": "https://localhost:8080/"
        },
        "id": "M0mkNg5CtAeR",
        "outputId": "bdbaaa78-89ba-4816-8079-847dfc77b0a3"
      },
      "execution_count": null,
      "outputs": [
        {
          "output_type": "stream",
          "name": "stdout",
          "text": [
            "Epoch 1/10\n",
            "3750/3750 [==============================] - 9s 2ms/step - loss: 0.2481 - accuracy: 0.9302\n",
            "Epoch 2/10\n",
            "3750/3750 [==============================] - 8s 2ms/step - loss: 0.1278 - accuracy: 0.9643\n",
            "Epoch 3/10\n",
            "3750/3750 [==============================] - 9s 2ms/step - loss: 0.1025 - accuracy: 0.9728\n",
            "Epoch 4/10\n",
            "3750/3750 [==============================] - 8s 2ms/step - loss: 0.0875 - accuracy: 0.9768\n",
            "Epoch 5/10\n",
            "3750/3750 [==============================] - 9s 2ms/step - loss: 0.0788 - accuracy: 0.9806\n",
            "Epoch 6/10\n",
            "3750/3750 [==============================] - 9s 2ms/step - loss: 0.0713 - accuracy: 0.9824\n",
            "Epoch 7/10\n",
            "3750/3750 [==============================] - 8s 2ms/step - loss: 0.0648 - accuracy: 0.9843\n",
            "Epoch 8/10\n",
            "3750/3750 [==============================] - 8s 2ms/step - loss: 0.0581 - accuracy: 0.9862\n",
            "Epoch 9/10\n",
            "3750/3750 [==============================] - 9s 2ms/step - loss: 0.0561 - accuracy: 0.9867\n",
            "Epoch 10/10\n",
            "3750/3750 [==============================] - 9s 2ms/step - loss: 0.0525 - accuracy: 0.9880\n",
            "313/313 [==============================] - 53s 2ms/step - loss: 0.1267 - accuracy: 0.9757\n"
          ]
        },
        {
          "output_type": "execute_result",
          "data": {
            "text/plain": [
              "[0.1267189383506775, 0.9757000207901001]"
            ]
          },
          "metadata": {},
          "execution_count": 64
        }
      ]
    },
    {
      "cell_type": "code",
      "source": [
        "xr1= xr.reshape(-1,28*28) /255\n",
        "xt1= xt.reshape(-1,28*28) /255\n",
        "\n",
        "\n",
        "aModel= keras.Sequential([\n",
        "    keras.Input(28*28),\n",
        "    keras.layers.Dense(100, activation= 'relu'),    \n",
        "    keras.layers.Dense(10,  activation= 'softmax')\n",
        "    ])\n",
        "\n",
        "aModel.compile(\n",
        "    loss=     'sparse_categorical_crossentropy',\n",
        "    metrics= ['accuracy']\n",
        "    )\n",
        "\n",
        "aModel.fit(xr1, yr, \n",
        "           epochs= 10, \n",
        "           batch_size= 16)\n",
        "\n",
        "aModel.evaluate(xt1, yt)"
      ],
      "metadata": {
        "colab": {
          "base_uri": "https://localhost:8080/"
        },
        "id": "FID2VXykuNiI",
        "outputId": "9b1f7108-7a53-4127-f7aa-4e166593ada0"
      },
      "execution_count": null,
      "outputs": [
        {
          "output_type": "stream",
          "name": "stdout",
          "text": [
            "Epoch 1/10\n",
            "3750/3750 [==============================] - 10s 3ms/step - loss: 0.2499 - accuracy: 0.9284\n",
            "Epoch 2/10\n",
            "3750/3750 [==============================] - 9s 2ms/step - loss: 0.1280 - accuracy: 0.9638\n",
            "Epoch 3/10\n",
            "3750/3750 [==============================] - 9s 2ms/step - loss: 0.1020 - accuracy: 0.9718\n",
            "Epoch 4/10\n",
            "3750/3750 [==============================] - 9s 2ms/step - loss: 0.0872 - accuracy: 0.9765\n",
            "Epoch 5/10\n",
            "3750/3750 [==============================] - 9s 2ms/step - loss: 0.0779 - accuracy: 0.9799\n",
            "Epoch 6/10\n",
            "3750/3750 [==============================] - 9s 2ms/step - loss: 0.0717 - accuracy: 0.9822\n",
            "Epoch 7/10\n",
            "3750/3750 [==============================] - 9s 2ms/step - loss: 0.0648 - accuracy: 0.9843\n",
            "Epoch 8/10\n",
            "3750/3750 [==============================] - 9s 2ms/step - loss: 0.0607 - accuracy: 0.9857\n",
            "Epoch 9/10\n",
            "3750/3750 [==============================] - 9s 2ms/step - loss: 0.0557 - accuracy: 0.9868\n",
            "Epoch 10/10\n",
            "3750/3750 [==============================] - 9s 2ms/step - loss: 0.0505 - accuracy: 0.9878\n",
            "313/313 [==============================] - 1s 2ms/step - loss: 0.1359 - accuracy: 0.9750\n"
          ]
        },
        {
          "output_type": "execute_result",
          "data": {
            "text/plain": [
              "[0.13588514924049377, 0.9750000238418579]"
            ]
          },
          "metadata": {},
          "execution_count": 65
        }
      ]
    },
    {
      "cell_type": "code",
      "source": [
        "aModel= keras.Sequential([\n",
        "    keras.Input(28*28),\n",
        "    keras.layers.Dense(200, activation= 'relu'),    \n",
        "    keras.layers.Dense(10,  activation= 'softmax')\n",
        "    ])\n",
        "\n",
        "aModel.compile(\n",
        "    loss=     'sparse_categorical_crossentropy',\n",
        "    metrics= ['accuracy']\n",
        "    )\n",
        "\n",
        "aModel.fit(xr1, yr, \n",
        "           epochs= 10, \n",
        "           batch_size= 16)\n",
        "\n",
        "aModel.evaluate(xt1, yt)"
      ],
      "metadata": {
        "colab": {
          "base_uri": "https://localhost:8080/"
        },
        "id": "hkpWDCm4vNKF",
        "outputId": "42dbb610-60ed-4229-913e-4badcb80f746"
      },
      "execution_count": null,
      "outputs": [
        {
          "output_type": "stream",
          "name": "stdout",
          "text": [
            "Epoch 1/10\n",
            "3750/3750 [==============================] - 14s 4ms/step - loss: 0.2204 - accuracy: 0.9352\n",
            "Epoch 2/10\n",
            "3750/3750 [==============================] - 12s 3ms/step - loss: 0.1094 - accuracy: 0.9697\n",
            "Epoch 3/10\n",
            "3750/3750 [==============================] - 12s 3ms/step - loss: 0.0857 - accuracy: 0.9773\n",
            "Epoch 4/10\n",
            "3750/3750 [==============================] - 12s 3ms/step - loss: 0.0729 - accuracy: 0.9815\n",
            "Epoch 5/10\n",
            "3750/3750 [==============================] - 12s 3ms/step - loss: 0.0626 - accuracy: 0.9846\n",
            "Epoch 6/10\n",
            "3750/3750 [==============================] - 13s 3ms/step - loss: 0.0574 - accuracy: 0.9862\n",
            "Epoch 7/10\n",
            "3750/3750 [==============================] - 12s 3ms/step - loss: 0.0506 - accuracy: 0.9882\n",
            "Epoch 8/10\n",
            "3750/3750 [==============================] - 12s 3ms/step - loss: 0.0465 - accuracy: 0.9900\n",
            "Epoch 9/10\n",
            "3750/3750 [==============================] - 12s 3ms/step - loss: 0.0427 - accuracy: 0.9910\n",
            "Epoch 10/10\n",
            "3750/3750 [==============================] - 12s 3ms/step - loss: 0.0376 - accuracy: 0.9919\n",
            "313/313 [==============================] - 1s 2ms/step - loss: 0.1446 - accuracy: 0.9762\n"
          ]
        },
        {
          "output_type": "execute_result",
          "data": {
            "text/plain": [
              "[0.14459119737148285, 0.9761999845504761]"
            ]
          },
          "metadata": {},
          "execution_count": 66
        }
      ]
    },
    {
      "cell_type": "code",
      "source": [
        "aModel= keras.Sequential([\n",
        "    keras.Input(28*28),\n",
        "    keras.layers.Dense(100, activation= 'relu'), \n",
        "    keras.layers.Dense(100, activation= 'relu'), \n",
        "    keras.layers.Dense(10,  activation= 'softmax')\n",
        "    ])\n",
        "\n",
        "aModel.compile(\n",
        "    loss=     'sparse_categorical_crossentropy',\n",
        "    metrics= ['accuracy']\n",
        "    )\n",
        "\n",
        "aModel.fit(xr1, yr, \n",
        "           epochs= 10, \n",
        "           batch_size= 16)\n",
        "\n",
        "aModel.evaluate(xt1, yt)"
      ],
      "metadata": {
        "colab": {
          "base_uri": "https://localhost:8080/"
        },
        "id": "ji2LCbizv7df",
        "outputId": "70be5603-15c1-463e-ea4e-1c48feee6514"
      },
      "execution_count": null,
      "outputs": [
        {
          "output_type": "stream",
          "name": "stdout",
          "text": [
            "Epoch 1/10\n",
            "3750/3750 [==============================] - 10s 2ms/step - loss: 0.2305 - accuracy: 0.9329\n",
            "Epoch 2/10\n",
            "3750/3750 [==============================] - 9s 3ms/step - loss: 0.1156 - accuracy: 0.9678\n",
            "Epoch 3/10\n",
            "3750/3750 [==============================] - 9s 2ms/step - loss: 0.0978 - accuracy: 0.9747\n",
            "Epoch 4/10\n",
            "3750/3750 [==============================] - 9s 2ms/step - loss: 0.0876 - accuracy: 0.9787\n",
            "Epoch 5/10\n",
            "3750/3750 [==============================] - 9s 2ms/step - loss: 0.0779 - accuracy: 0.9823\n",
            "Epoch 6/10\n",
            "3750/3750 [==============================] - 9s 3ms/step - loss: 0.0730 - accuracy: 0.9836\n",
            "Epoch 7/10\n",
            "3750/3750 [==============================] - 9s 2ms/step - loss: 0.0711 - accuracy: 0.9853\n",
            "Epoch 8/10\n",
            "3750/3750 [==============================] - 9s 2ms/step - loss: 0.0636 - accuracy: 0.9868\n",
            "Epoch 9/10\n",
            "3750/3750 [==============================] - 9s 2ms/step - loss: 0.0585 - accuracy: 0.9876\n",
            "Epoch 10/10\n",
            "3750/3750 [==============================] - 9s 2ms/step - loss: 0.0544 - accuracy: 0.9887\n",
            "313/313 [==============================] - 1s 2ms/step - loss: 0.1600 - accuracy: 0.9781\n"
          ]
        },
        {
          "output_type": "execute_result",
          "data": {
            "text/plain": [
              "[0.15999798476696014, 0.9781000018119812]"
            ]
          },
          "metadata": {},
          "execution_count": 68
        }
      ]
    },
    {
      "cell_type": "code",
      "source": [
        "aModel= keras.Sequential([\n",
        "    keras.Input(28*28),\n",
        "    keras.layers.Dense(150, activation= 'relu'), \n",
        "    keras.layers.Dense(50,  activation= 'relu'), \n",
        "    keras.layers.Dense(10,  activation= 'softmax')\n",
        "    ])\n",
        "\n",
        "aModel.compile(\n",
        "    loss=     'sparse_categorical_crossentropy',\n",
        "    metrics= ['accuracy']\n",
        "    )\n",
        "\n",
        "aModel.fit(xr1, yr, \n",
        "           epochs= 10, \n",
        "           batch_size= 16)\n",
        "\n",
        "aModel.evaluate(xt1, yt)"
      ],
      "metadata": {
        "colab": {
          "base_uri": "https://localhost:8080/"
        },
        "id": "JfhKGM9I4Jbt",
        "outputId": "056daf00-35ae-4885-d248-c665338d5be2"
      },
      "execution_count": null,
      "outputs": [
        {
          "output_type": "stream",
          "name": "stdout",
          "text": [
            "Epoch 1/10\n",
            "3750/3750 [==============================] - 14s 3ms/step - loss: 0.2259 - accuracy: 0.9336\n",
            "Epoch 2/10\n",
            "3750/3750 [==============================] - 12s 3ms/step - loss: 0.1136 - accuracy: 0.9686\n",
            "Epoch 3/10\n",
            "3750/3750 [==============================] - 12s 3ms/step - loss: 0.0913 - accuracy: 0.9765\n",
            "Epoch 4/10\n",
            "3750/3750 [==============================] - 12s 3ms/step - loss: 0.0793 - accuracy: 0.9806\n",
            "Epoch 5/10\n",
            "3750/3750 [==============================] - 12s 3ms/step - loss: 0.0707 - accuracy: 0.9830\n",
            "Epoch 6/10\n",
            "3750/3750 [==============================] - 13s 3ms/step - loss: 0.0649 - accuracy: 0.9847\n",
            "Epoch 7/10\n",
            "3750/3750 [==============================] - 12s 3ms/step - loss: 0.0598 - accuracy: 0.9864\n",
            "Epoch 8/10\n",
            "3750/3750 [==============================] - 12s 3ms/step - loss: 0.0552 - accuracy: 0.9877\n",
            "Epoch 9/10\n",
            "3750/3750 [==============================] - 12s 3ms/step - loss: 0.0491 - accuracy: 0.9890\n",
            "Epoch 10/10\n",
            "3750/3750 [==============================] - 12s 3ms/step - loss: 0.0466 - accuracy: 0.9898\n",
            "313/313 [==============================] - 1s 2ms/step - loss: 0.1614 - accuracy: 0.9753\n"
          ]
        },
        {
          "output_type": "execute_result",
          "data": {
            "text/plain": [
              "[0.1613762527704239, 0.9753000140190125]"
            ]
          },
          "metadata": {},
          "execution_count": 70
        }
      ]
    },
    {
      "cell_type": "code",
      "source": [
        "aModel.summary()\n",
        "\n",
        "keras.utils.plot_model(aModel, \n",
        "    show_shapes= True, \n",
        "    show_layer_activations= True)"
      ],
      "metadata": {
        "colab": {
          "base_uri": "https://localhost:8080/",
          "height": 682
        },
        "id": "T1dT3ebG4vy8",
        "outputId": "88da5fe5-9d7f-48c4-ca4a-d71dd3fe51be"
      },
      "execution_count": null,
      "outputs": [
        {
          "output_type": "stream",
          "name": "stdout",
          "text": [
            "Model: \"sequential_22\"\n",
            "_________________________________________________________________\n",
            " Layer (type)                Output Shape              Param #   \n",
            "=================================================================\n",
            " dense_45 (Dense)            (None, 150)               117750    \n",
            "                                                                 \n",
            " dense_46 (Dense)            (None, 50)                7550      \n",
            "                                                                 \n",
            " dense_47 (Dense)            (None, 10)                510       \n",
            "                                                                 \n",
            "=================================================================\n",
            "Total params: 125,810\n",
            "Trainable params: 125,810\n",
            "Non-trainable params: 0\n",
            "_________________________________________________________________\n"
          ]
        },
        {
          "output_type": "execute_result",
          "data": {
            "image/png": "[encoded data removed]",
            "text/plain": [
              "<IPython.core.display.Image object>"
            ]
          },
          "metadata": {},
          "execution_count": 71
        }
      ]
    }
  ]
}
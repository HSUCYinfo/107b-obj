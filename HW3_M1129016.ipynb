{
  "cells": [
    {
      "cell_type": "code",
      "source": [
        "import tensorflow as tf\n",
        "x = tf.ones(shape=(2, 2))\n",
        "print(x)\n",
        "x = tf.zeros(shape=(2, 2))\n",
        "print(x)"
      ],
      "metadata": {
        "id": "4UwrG10JIvsm",
        "outputId": "7b26f06f-9120-46d5-9807-c384890cef6f",
        "colab": {
          "base_uri": "https://localhost:8080/"
        }
      },
      "execution_count": 73,
      "outputs": [
        {
          "output_type": "stream",
          "name": "stdout",
          "text": [
            "tf.Tensor(\n",
            "[[1. 1.]\n",
            " [1. 1.]], shape=(2, 2), dtype=float32)\n",
            "tf.Tensor(\n",
            "[[0. 0.]\n",
            " [0. 0.]], shape=(2, 2), dtype=float32)\n"
          ]
        }
      ]
    },
    {
      "cell_type": "code",
      "source": [
        "x = tf.random.normal(shape=(2, 2), mean=0., stddev=1.)\n",
        "print(x)\n",
        "x = tf.random.uniform(shape=(2, 2), minval=0., maxval=1.)\n",
        "print(x)"
      ],
      "metadata": {
        "id": "I6DHq-tgWPaR",
        "outputId": "790fb3dd-51ba-4350-d73c-14945343cbf4",
        "colab": {
          "base_uri": "https://localhost:8080/"
        }
      },
      "execution_count": 74,
      "outputs": [
        {
          "output_type": "stream",
          "name": "stdout",
          "text": [
            "tf.Tensor(\n",
            "[[-0.6809088 -3.0991294]\n",
            " [-1.5785118  0.1329739]], shape=(2, 2), dtype=float32)\n",
            "tf.Tensor(\n",
            "[[0.7131928  0.7475598 ]\n",
            " [0.29413974 0.06854939]], shape=(2, 2), dtype=float32)\n"
          ]
        }
      ]
    },
    {
      "cell_type": "code",
      "source": [
        "import numpy as np\n",
        "x = np.ones(shape=(2, 2))\n",
        "x[0, 0] = 0."
      ],
      "metadata": {
        "id": "4zhKuVbgWrM5"
      },
      "execution_count": 75,
      "outputs": []
    },
    {
      "cell_type": "code",
      "source": [
        "v = tf.Variable(initial_value=tf.random.normal(shape=(3, 1)))\n",
        "print(v)"
      ],
      "metadata": {
        "id": "RB5SBlFoX8Qy",
        "outputId": "961474bc-4072-443e-eaa2-422fd0aef7d2",
        "colab": {
          "base_uri": "https://localhost:8080/"
        }
      },
      "execution_count": 76,
      "outputs": [
        {
          "output_type": "stream",
          "name": "stdout",
          "text": [
            "<tf.Variable 'Variable:0' shape=(3, 1) dtype=float32, numpy=\n",
            "array([[-0.18786977],\n",
            "       [-2.2316904 ],\n",
            "       [ 0.734296  ]], dtype=float32)>\n"
          ]
        }
      ]
    },
    {
      "cell_type": "code",
      "source": [
        "v.assign(tf.ones((3, 1)))"
      ],
      "metadata": {
        "id": "jxwSS9JuYUaz",
        "outputId": "16af1c23-cce6-4126-e494-f7b8a6f08b63",
        "colab": {
          "base_uri": "https://localhost:8080/"
        }
      },
      "execution_count": 77,
      "outputs": [
        {
          "output_type": "execute_result",
          "data": {
            "text/plain": [
              "<tf.Variable 'UnreadVariable' shape=(3, 1) dtype=float32, numpy=\n",
              "array([[1.],\n",
              "       [1.],\n",
              "       [1.]], dtype=float32)>"
            ]
          },
          "metadata": {},
          "execution_count": 77
        }
      ]
    },
    {
      "cell_type": "code",
      "source": [
        "v[0, 0].assign(3.)"
      ],
      "metadata": {
        "id": "JnuNRfEWYasI",
        "outputId": "8a17ee41-692a-4de6-93e5-b307ee066e31",
        "colab": {
          "base_uri": "https://localhost:8080/"
        }
      },
      "execution_count": 78,
      "outputs": [
        {
          "output_type": "execute_result",
          "data": {
            "text/plain": [
              "<tf.Variable 'UnreadVariable' shape=(3, 1) dtype=float32, numpy=\n",
              "array([[3.],\n",
              "       [1.],\n",
              "       [1.]], dtype=float32)>"
            ]
          },
          "metadata": {},
          "execution_count": 78
        }
      ]
    },
    {
      "cell_type": "code",
      "source": [
        "v.assign_add(tf.ones((3, 1)))"
      ],
      "metadata": {
        "id": "-MixFWxRYeeo",
        "outputId": "f32cc338-a41d-4120-f9c7-7de6bc14edf2",
        "colab": {
          "base_uri": "https://localhost:8080/"
        }
      },
      "execution_count": 79,
      "outputs": [
        {
          "output_type": "execute_result",
          "data": {
            "text/plain": [
              "<tf.Variable 'UnreadVariable' shape=(3, 1) dtype=float32, numpy=\n",
              "array([[4.],\n",
              "       [2.],\n",
              "       [2.]], dtype=float32)>"
            ]
          },
          "metadata": {},
          "execution_count": 79
        }
      ]
    },
    {
      "cell_type": "code",
      "source": [
        "a = tf.ones((2, 2))\n",
        "b = tf.square(a)\n",
        "c = tf.sqrt(a)\n",
        "d = b + c\n",
        "e = tf.matmul(a, b)\n",
        "e *= d\n",
        "print(a)\n",
        "print(b)\n",
        "print(c)\n",
        "print(d)\n",
        "print(e)"
      ],
      "metadata": {
        "id": "aLgvvO6iY_Mc",
        "outputId": "d3151c1b-f2df-4e9c-b3c2-4899e39d740d",
        "colab": {
          "base_uri": "https://localhost:8080/"
        }
      },
      "execution_count": 80,
      "outputs": [
        {
          "output_type": "stream",
          "name": "stdout",
          "text": [
            "tf.Tensor(\n",
            "[[1. 1.]\n",
            " [1. 1.]], shape=(2, 2), dtype=float32)\n",
            "tf.Tensor(\n",
            "[[1. 1.]\n",
            " [1. 1.]], shape=(2, 2), dtype=float32)\n",
            "tf.Tensor(\n",
            "[[1. 1.]\n",
            " [1. 1.]], shape=(2, 2), dtype=float32)\n",
            "tf.Tensor(\n",
            "[[2. 2.]\n",
            " [2. 2.]], shape=(2, 2), dtype=float32)\n",
            "tf.Tensor(\n",
            "[[4. 4.]\n",
            " [4. 4.]], shape=(2, 2), dtype=float32)\n"
          ]
        }
      ]
    },
    {
      "cell_type": "code",
      "source": [
        "input_var = tf.Variable(initial_value=3.)\n",
        "with tf.GradientTape() as tape:\n",
        "   result = tf.square(input_var)\n",
        "gradient = tape.gradient(result, input_var)"
      ],
      "metadata": {
        "id": "TcdoiAzjZKH4"
      },
      "execution_count": 81,
      "outputs": []
    },
    {
      "cell_type": "code",
      "source": [
        "input_const = tf.constant(3.)\n",
        "with tf.GradientTape() as tape:\n",
        "   tape.watch(input_const)\n",
        "   result = tf.square(input_const)\n",
        "gradient = tape.gradient(result, input_const)"
      ],
      "metadata": {
        "id": "T0TK_BurZMex"
      },
      "execution_count": 82,
      "outputs": []
    },
    {
      "cell_type": "code",
      "source": [
        "time = tf.Variable(0.)\n",
        "with tf.GradientTape() as outer_tape:\n",
        "    with tf.GradientTape() as inner_tape:\n",
        "        position =  4.9 * time ** 2\n",
        "    speed = inner_tape.gradient(position, time)\n",
        "acceleration = outer_tape.gradient(speed, time)"
      ],
      "metadata": {
        "id": "Z90wQJ34ZN4Q"
      },
      "execution_count": 83,
      "outputs": []
    },
    {
      "cell_type": "code",
      "source": [
        "num_samples_per_class = 500\n",
        "negative_samples = np.random.multivariate_normal(\n",
        "    mean=[0, 3],\n",
        "    cov=[[1, 0.5],[0.5, 1]],\n",
        "    size=num_samples_per_class)\n",
        "positive_samples = np.random.multivariate_normal(\n",
        "    mean=[3, 0],\n",
        "    cov=[[1, 0.5],[0.5, 1]],\n",
        "    size=num_samples_per_class)"
      ],
      "metadata": {
        "id": "KLdMyKn0ZPgf"
      },
      "execution_count": 84,
      "outputs": []
    },
    {
      "cell_type": "code",
      "source": [
        "inputs = np.vstack((negative_samples, positive_samples)).astype(np.float32)"
      ],
      "metadata": {
        "id": "_o7mcPGTZRBB"
      },
      "execution_count": 85,
      "outputs": []
    },
    {
      "cell_type": "code",
      "source": [
        "targets = np.vstack((np.zeros((num_samples_per_class, 1), dtype=\"float32\"),\n",
        "                     np.ones((num_samples_per_class, 1), dtype=\"float32\")))"
      ],
      "metadata": {
        "id": "kyx4SDksZSeo"
      },
      "execution_count": 86,
      "outputs": []
    },
    {
      "cell_type": "code",
      "source": [
        "import matplotlib.pyplot as plt\n",
        "plt.scatter(inputs[:, 0], inputs[:, 1], c=targets[:, 0])\n",
        "plt.show()"
      ],
      "metadata": {
        "id": "qqRp4bsrZUtH",
        "outputId": "4dd97942-659b-41eb-a9d1-67ca77c92aab",
        "colab": {
          "base_uri": "https://localhost:8080/",
          "height": 265
        }
      },
      "execution_count": 87,
      "outputs": [
        {
          "output_type": "display_data",
          "data": {
            "text/plain": [
              "<Figure size 432x288 with 1 Axes>"
            ],
            "image/png": "[encoded data removed]"
          },
          "metadata": {
            "needs_background": "light"
          }
        }
      ]
    },
    {
      "cell_type": "code",
      "source": [
        "input_dim = 2\n",
        "output_dim = 1\n",
        "W = tf.Variable(initial_value=tf.random.uniform(shape=(input_dim, output_dim)))\n",
        "b = tf.Variable(initial_value=tf.zeros(shape=(output_dim,)))"
      ],
      "metadata": {
        "id": "eA-fyvLTZo1h"
      },
      "execution_count": 88,
      "outputs": []
    },
    {
      "cell_type": "code",
      "source": [
        "def model(inputs):\n",
        "    return tf.matmul(inputs, W) + b"
      ],
      "metadata": {
        "id": "UjbCskM-ZquC"
      },
      "execution_count": 89,
      "outputs": []
    },
    {
      "cell_type": "code",
      "source": [
        "def square_loss(targets, predictions):\n",
        "    per_sample_losses = tf.square(targets - predictions)\n",
        "    return tf.reduce_mean(per_sample_losses)"
      ],
      "metadata": {
        "id": "w9Owf3FYZsY_"
      },
      "execution_count": 90,
      "outputs": []
    },
    {
      "cell_type": "code",
      "source": [
        "learning_rate = 0.1\n",
        "\n",
        "def training_step(inputs, targets):\n",
        "    with tf.GradientTape() as tape:\n",
        "        predictions = model(inputs)\n",
        "        loss = square_loss(targets, predictions)\n",
        "    grad_loss_wrt_W, grad_loss_wrt_b = tape.gradient(loss, [W, b])\n",
        "    W.assign_sub(grad_loss_wrt_W * learning_rate)\n",
        "    b.assign_sub(grad_loss_wrt_b * learning_rate)\n",
        "    return loss"
      ],
      "metadata": {
        "id": "egHhNYBIZt8q"
      },
      "execution_count": 91,
      "outputs": []
    },
    {
      "cell_type": "code",
      "source": [
        "for step in range(20):\n",
        "  loss = training_step(inputs, targets)\n",
        "  print(f\"Loss at step {step}: {loss:.4f}\")"
      ],
      "metadata": {
        "id": "jblf4jorpxbj",
        "outputId": "41ba5957-32ac-43a1-8315-740b255e6c74",
        "colab": {
          "base_uri": "https://localhost:8080/"
        }
      },
      "execution_count": 93,
      "outputs": [
        {
          "output_type": "stream",
          "name": "stdout",
          "text": [
            "Loss at step 0: 0.0322\n",
            "Loss at step 1: 0.0315\n",
            "Loss at step 2: 0.0308\n",
            "Loss at step 3: 0.0302\n",
            "Loss at step 4: 0.0296\n",
            "Loss at step 5: 0.0291\n",
            "Loss at step 6: 0.0286\n",
            "Loss at step 7: 0.0282\n",
            "Loss at step 8: 0.0278\n",
            "Loss at step 9: 0.0275\n",
            "Loss at step 10: 0.0271\n",
            "Loss at step 11: 0.0268\n",
            "Loss at step 12: 0.0266\n",
            "Loss at step 13: 0.0263\n",
            "Loss at step 14: 0.0261\n",
            "Loss at step 15: 0.0259\n",
            "Loss at step 16: 0.0257\n",
            "Loss at step 17: 0.0255\n",
            "Loss at step 18: 0.0253\n",
            "Loss at step 19: 0.0252\n"
          ]
        }
      ]
    },
    {
      "cell_type": "code",
      "source": [
        "predictions = model(inputs)\n",
        "plt.scatter(inputs[:, 0], inputs[:, 1], c=predictions[:, 0] > 0.5)\n",
        "plt.show()"
      ],
      "metadata": {
        "id": "VbG6W8MTwHhi",
        "outputId": "45deb07a-7afa-4962-cb3f-4d9329395acd",
        "colab": {
          "base_uri": "https://localhost:8080/",
          "height": 265
        }
      },
      "execution_count": 94,
      "outputs": [
        {
          "output_type": "display_data",
          "data": {
            "text/plain": [
              "<Figure size 432x288 with 1 Axes>"
            ],
            "image/png": "[encoded data removed]"
          },
          "metadata": {
            "needs_background": "light"
          }
        }
      ]
    },
    {
      "cell_type": "code",
      "source": [
        "x = np.linspace(-1, 4, 100)\n",
        "y = - W[0] /  W[1] * x + (0.5 - b) / W[1]\n",
        "plt.plot(x, y, \"-r\")\n",
        "plt.scatter(inputs[:, 0], inputs[:, 1], c=predictions[:, 0] > 0.5)"
      ],
      "metadata": {
        "id": "KqIpaQQIwJKJ",
        "outputId": "8bffd3c4-6b75-4886-c0e4-a48efacd67f2",
        "colab": {
          "base_uri": "https://localhost:8080/",
          "height": 282
        }
      },
      "execution_count": 95,
      "outputs": [
        {
          "output_type": "execute_result",
          "data": {
            "text/plain": [
              "<matplotlib.collections.PathCollection at 0x7f02d104cd10>"
            ]
          },
          "metadata": {},
          "execution_count": 95
        },
        {
          "output_type": "display_data",
          "data": {
            "text/plain": [
              "<Figure size 432x288 with 1 Axes>"
            ],
            "image/png": "[encoded data removed]"
          },
          "metadata": {
            "needs_background": "light"
          }
        }
      ]
    },
    {
      "cell_type": "code",
      "source": [
        "from tensorflow import keras\n",
        "\n",
        "class SimpleDense(keras.layers.Layer):\n",
        "\n",
        "    def __init__(self, units, activation=None):\n",
        "        super().__init__()\n",
        "        self.units = units\n",
        "        self.activation = activation\n",
        "\n",
        "    def build(self, input_shape):\n",
        "        input_dim = input_shape[-1]\n",
        "        self.W = self.add_weight(shape=(input_dim, self.units),\n",
        "                                 initializer=\"random_normal\")\n",
        "        self.b = self.add_weight(shape=(self.units,),\n",
        "                                 initializer=\"zeros\")\n",
        "\n",
        "    def call(self, inputs):\n",
        "        y = tf.matmul(inputs, self.W) + self.b\n",
        "        if self.activation is not None:\n",
        "            y = self.activation(y)\n",
        "        return y"
      ],
      "metadata": {
        "id": "qOI91HhVwLQf"
      },
      "execution_count": 96,
      "outputs": []
    },
    {
      "cell_type": "code",
      "source": [
        "my_dense = SimpleDense(units=32, activation=tf.nn.relu)\n",
        "input_tensor = tf.ones(shape=(2, 784))\n",
        "output_tensor = my_dense(input_tensor)\n",
        "print(output_tensor.shape)"
      ],
      "metadata": {
        "id": "V04e84jmwMxQ",
        "outputId": "ca513269-0195-4646-f9ca-4d624ac73da8",
        "colab": {
          "base_uri": "https://localhost:8080/"
        }
      },
      "execution_count": 97,
      "outputs": [
        {
          "output_type": "stream",
          "name": "stdout",
          "text": [
            "(2, 32)\n"
          ]
        }
      ]
    },
    {
      "cell_type": "code",
      "source": [
        "from tensorflow.keras import layers\n",
        "layer = layers.Dense(32, activation=\"relu\")"
      ],
      "metadata": {
        "id": "5vCLqxAtwP5Q"
      },
      "execution_count": 98,
      "outputs": []
    },
    {
      "cell_type": "code",
      "source": [
        "from tensorflow.keras import layers\n",
        "model = models.Sequential([\n",
        "    layers.Dense(32, activation=\"relu\"),\n",
        "    layers.Dense(32)\n",
        "])"
      ],
      "metadata": {
        "id": "iMMkTzeYwRZN"
      },
      "execution_count": 99,
      "outputs": []
    },
    {
      "cell_type": "code",
      "source": [
        "model = keras.Sequential([\n",
        "    SimpleDense(32, activation=\"relu\"),\n",
        "    SimpleDense(64, activation=\"relu\"),\n",
        "    SimpleDense(32, activation=\"relu\"),\n",
        "    SimpleDense(10, activation=\"softmax\")\n",
        "])"
      ],
      "metadata": {
        "id": "rIW7wlYJwS8h"
      },
      "execution_count": 100,
      "outputs": []
    },
    {
      "cell_type": "code",
      "source": [
        "model = keras.Sequential([keras.layers.Dense(1)])\n",
        "model.compile(optimizer=\"rmsprop\",\n",
        "              loss=\"mean_squared_error\",\n",
        "              metrics=[\"accuracy\"])"
      ],
      "metadata": {
        "id": "hx5KLdWLwUMp"
      },
      "execution_count": 101,
      "outputs": []
    },
    {
      "cell_type": "code",
      "source": [
        "model.compile(optimizer=keras.optimizers.RMSprop(),\n",
        "              loss=keras.losses.MeanSquaredError(),\n",
        "              metrics=[keras.metrics.BinaryAccuracy()])"
      ],
      "metadata": {
        "id": "P80D9ALkwV40"
      },
      "execution_count": 102,
      "outputs": []
    },
    {
      "cell_type": "code",
      "source": [
        "history = model.fit(\n",
        "    inputs,\n",
        "    targets,\n",
        "    epochs=15,\n",
        "    batch_size=128\n",
        ")"
      ],
      "metadata": {
        "id": "oSdiPk_7wXpo",
        "outputId": "575b9285-45f5-44c0-ef4a-6ed0171514d8",
        "colab": {
          "base_uri": "https://localhost:8080/"
        }
      },
      "execution_count": 103,
      "outputs": [
        {
          "output_type": "stream",
          "name": "stdout",
          "text": [
            "Epoch 1/15\n",
            "8/8 [==============================] - 1s 3ms/step - loss: 0.2413 - binary_accuracy: 0.9400\n",
            "Epoch 2/15\n",
            "8/8 [==============================] - 0s 3ms/step - loss: 0.2111 - binary_accuracy: 0.9550\n",
            "Epoch 3/15\n",
            "8/8 [==============================] - 0s 3ms/step - loss: 0.1911 - binary_accuracy: 0.9630\n",
            "Epoch 4/15\n",
            "8/8 [==============================] - 0s 5ms/step - loss: 0.1742 - binary_accuracy: 0.9660\n",
            "Epoch 5/15\n",
            "8/8 [==============================] - 0s 3ms/step - loss: 0.1592 - binary_accuracy: 0.9670\n",
            "Epoch 6/15\n",
            "8/8 [==============================] - 0s 3ms/step - loss: 0.1458 - binary_accuracy: 0.9690\n",
            "Epoch 7/15\n",
            "8/8 [==============================] - 0s 3ms/step - loss: 0.1335 - binary_accuracy: 0.9690\n",
            "Epoch 8/15\n",
            "8/8 [==============================] - 0s 4ms/step - loss: 0.1221 - binary_accuracy: 0.9690\n",
            "Epoch 9/15\n",
            "8/8 [==============================] - 0s 3ms/step - loss: 0.1117 - binary_accuracy: 0.9720\n",
            "Epoch 10/15\n",
            "8/8 [==============================] - 0s 4ms/step - loss: 0.1023 - binary_accuracy: 0.9740\n",
            "Epoch 11/15\n",
            "8/8 [==============================] - 0s 4ms/step - loss: 0.0939 - binary_accuracy: 0.9740\n",
            "Epoch 12/15\n",
            "8/8 [==============================] - 0s 4ms/step - loss: 0.0865 - binary_accuracy: 0.9740\n",
            "Epoch 13/15\n",
            "8/8 [==============================] - 0s 4ms/step - loss: 0.0799 - binary_accuracy: 0.9740\n",
            "Epoch 14/15\n",
            "8/8 [==============================] - 0s 4ms/step - loss: 0.0742 - binary_accuracy: 0.9770\n",
            "Epoch 15/15\n",
            "8/8 [==============================] - 0s 4ms/step - loss: 0.0693 - binary_accuracy: 0.9770\n"
          ]
        }
      ]
    },
    {
      "cell_type": "code",
      "source": [
        "history.history"
      ],
      "metadata": {
        "id": "HFoS535awaUr",
        "outputId": "4dbe6f03-85d2-4477-cfc4-edeaf53ccc8c",
        "colab": {
          "base_uri": "https://localhost:8080/"
        }
      },
      "execution_count": 104,
      "outputs": [
        {
          "output_type": "execute_result",
          "data": {
            "text/plain": [
              "{'loss': [0.2413225620985031,\n",
              "  0.2111494243144989,\n",
              "  0.19107605516910553,\n",
              "  0.1741807609796524,\n",
              "  0.15924111008644104,\n",
              "  0.14582468569278717,\n",
              "  0.13349881768226624,\n",
              "  0.12210345268249512,\n",
              "  0.11169023811817169,\n",
              "  0.10232309252023697,\n",
              "  0.09392789751291275,\n",
              "  0.08646951615810394,\n",
              "  0.07986700534820557,\n",
              "  0.07418201863765717,\n",
              "  0.06933514773845673],\n",
              " 'binary_accuracy': [0.9399999976158142,\n",
              "  0.9549999833106995,\n",
              "  0.9629999995231628,\n",
              "  0.9660000205039978,\n",
              "  0.9670000076293945,\n",
              "  0.968999981880188,\n",
              "  0.968999981880188,\n",
              "  0.968999981880188,\n",
              "  0.972000002861023,\n",
              "  0.9739999771118164,\n",
              "  0.9739999771118164,\n",
              "  0.9739999771118164,\n",
              "  0.9739999771118164,\n",
              "  0.9769999980926514,\n",
              "  0.9769999980926514]}"
            ]
          },
          "metadata": {},
          "execution_count": 104
        }
      ]
    },
    {
      "cell_type": "code",
      "source": [
        "model = keras.Sequential([keras.layers.Dense(1)])\n",
        "model.compile(optimizer=keras.optimizers.RMSprop(learning_rate=0.1),\n",
        "              loss=keras.losses.MeanSquaredError(),\n",
        "              metrics=[keras.metrics.BinaryAccuracy()])\n",
        "\n",
        "indices_permutation = np.random.permutation(len(inputs))\n",
        "shuffled_inputs = inputs[indices_permutation]\n",
        "shuffled_targets = targets[indices_permutation]\n",
        "\n",
        "num_validation_samples = int(0.3 * len(inputs))\n",
        "val_inputs = shuffled_inputs[:num_validation_samples]\n",
        "val_targets = shuffled_targets[:num_validation_samples]\n",
        "training_inputs = shuffled_inputs[num_validation_samples:]\n",
        "training_targets = shuffled_targets[num_validation_samples:]\n",
        "model.fit(\n",
        "    training_inputs,\n",
        "    training_targets,\n",
        "    epochs=15,\n",
        "    batch_size=8,\n",
        "    validation_data=(val_inputs, val_targets)\n",
        ")"
      ],
      "metadata": {
        "id": "UtxJD-qUwcmi",
        "outputId": "afa13925-949d-42aa-b798-792c166cd3d7",
        "colab": {
          "base_uri": "https://localhost:8080/"
        }
      },
      "execution_count": 105,
      "outputs": [
        {
          "output_type": "stream",
          "name": "stdout",
          "text": [
            "Epoch 1/15\n",
            "88/88 [==============================] - 1s 8ms/step - loss: 0.1999 - binary_accuracy: 0.9186 - val_loss: 0.1578 - val_binary_accuracy: 0.7500\n",
            "Epoch 2/15\n",
            "88/88 [==============================] - 0s 3ms/step - loss: 0.0671 - binary_accuracy: 0.9686 - val_loss: 0.4221 - val_binary_accuracy: 0.5100\n",
            "Epoch 3/15\n",
            "88/88 [==============================] - 0s 3ms/step - loss: 0.0760 - binary_accuracy: 0.9500 - val_loss: 0.0688 - val_binary_accuracy: 0.9633\n",
            "Epoch 4/15\n",
            "88/88 [==============================] - 0s 3ms/step - loss: 0.0709 - binary_accuracy: 0.9586 - val_loss: 0.0590 - val_binary_accuracy: 0.9667\n",
            "Epoch 5/15\n",
            "88/88 [==============================] - 0s 3ms/step - loss: 0.0751 - binary_accuracy: 0.9643 - val_loss: 0.0909 - val_binary_accuracy: 0.9967\n",
            "Epoch 6/15\n",
            "88/88 [==============================] - 0s 3ms/step - loss: 0.0733 - binary_accuracy: 0.9629 - val_loss: 0.2262 - val_binary_accuracy: 0.8600\n",
            "Epoch 7/15\n",
            "88/88 [==============================] - 0s 2ms/step - loss: 0.0752 - binary_accuracy: 0.9586 - val_loss: 0.0303 - val_binary_accuracy: 1.0000\n",
            "Epoch 8/15\n",
            "88/88 [==============================] - 0s 3ms/step - loss: 0.0717 - binary_accuracy: 0.9500 - val_loss: 0.0637 - val_binary_accuracy: 0.9867\n",
            "Epoch 9/15\n",
            "88/88 [==============================] - 0s 2ms/step - loss: 0.0738 - binary_accuracy: 0.9586 - val_loss: 0.0736 - val_binary_accuracy: 0.9733\n",
            "Epoch 10/15\n",
            "88/88 [==============================] - 0s 3ms/step - loss: 0.0712 - binary_accuracy: 0.9614 - val_loss: 0.0830 - val_binary_accuracy: 0.9767\n",
            "Epoch 11/15\n",
            "88/88 [==============================] - 0s 2ms/step - loss: 0.0828 - binary_accuracy: 0.9514 - val_loss: 0.0338 - val_binary_accuracy: 0.9967\n",
            "Epoch 12/15\n",
            "88/88 [==============================] - 0s 2ms/step - loss: 0.0668 - binary_accuracy: 0.9629 - val_loss: 0.0987 - val_binary_accuracy: 0.9167\n",
            "Epoch 13/15\n",
            "88/88 [==============================] - 0s 3ms/step - loss: 0.0735 - binary_accuracy: 0.9543 - val_loss: 0.0856 - val_binary_accuracy: 0.9233\n",
            "Epoch 14/15\n",
            "88/88 [==============================] - 0s 2ms/step - loss: 0.0757 - binary_accuracy: 0.9714 - val_loss: 0.1076 - val_binary_accuracy: 0.9767\n",
            "Epoch 15/15\n",
            "88/88 [==============================] - 0s 3ms/step - loss: 0.0765 - binary_accuracy: 0.9471 - val_loss: 0.1974 - val_binary_accuracy: 0.9767\n"
          ]
        },
        {
          "output_type": "execute_result",
          "data": {
            "text/plain": [
              "<keras.callbacks.History at 0x7f02d0f97810>"
            ]
          },
          "metadata": {},
          "execution_count": 105
        }
      ]
    },
    {
      "cell_type": "code",
      "source": [
        "predictions = model.predict(val_inputs, batch_size=128)\n",
        "print(predictions[:20])"
      ],
      "metadata": {
        "id": "pD41HyRhwfQe",
        "outputId": "c95bffb1-cc35-457d-a7cf-450a424ede34",
        "colab": {
          "base_uri": "https://localhost:8080/"
        }
      },
      "execution_count": 106,
      "outputs": [
        {
          "output_type": "stream",
          "name": "stdout",
          "text": [
            "[[-0.6320169 ]\n",
            " [-0.41595334]\n",
            " [ 1.0054033 ]\n",
            " [ 1.05779   ]\n",
            " [-0.46044177]\n",
            " [ 0.7712646 ]\n",
            " [-0.59891057]\n",
            " [ 0.68725646]\n",
            " [ 0.6509675 ]\n",
            " [-0.73834836]\n",
            " [ 0.8448839 ]\n",
            " [ 0.62380356]\n",
            " [-0.56867415]\n",
            " [-0.31228298]\n",
            " [ 0.8435011 ]\n",
            " [ 0.84130836]\n",
            " [ 0.9556106 ]\n",
            " [ 1.1803465 ]\n",
            " [-0.11921179]\n",
            " [ 0.69928944]]\n"
          ]
        }
      ]
    }
  ],
  "metadata": {
    "colab": {
      "collapsed_sections": [],
      "name": "歡迎使用 Colaboratory",
      "toc_visible": true,
      "provenance": []
    },
    "kernelspec": {
      "display_name": "Python 3",
      "name": "python3"
    }
  },
  "nbformat": 4,
  "nbformat_minor": 0
}